{
 "cells": [
  {
   "cell_type": "code",
   "execution_count": 5,
   "metadata": {},
   "outputs": [
    {
     "name": "stdout",
     "output_type": "stream",
     "text": [
      "user option rock\n",
      "comp option paper\n",
      "you lose !\n"
     ]
    }
   ],
   "source": [
    "import random as rd\n",
    "\n",
    "choices = [\"rock\", \"paper\", \"scisor\"]\n",
    "\n",
    "user = input(str(\"please choose one of the 3 options available (rock, paper,  scisor: )\")).lower()\n",
    "\n",
    "while user not in choices:\n",
    "    user = input(str(f\"your input {user} is not valid. Please enter one of the 3 option:\")).lower()\n",
    "\n",
    "comp = rd.choice(choices)\n",
    "\n",
    "print(f'user option {user}')\n",
    "print(f'comp option {comp}')\n",
    "\n",
    "\n",
    "if comp == user:\n",
    "    print(\"there is a tie,  play again\")\n",
    "elif ((comp == 'rock' and user =='scisor') or (comp == 'paper' and user == 'rock') or (comp =='scisor' or user == 'paper')):\n",
    "    print('you lose !')\n",
    "elif ((user == 'rock' and comp =='scisor') or (user == 'paper' and comp == 'rock') or (user =='scisor' or comp == 'paper')):\n",
    "    print('you won! congrats')\n",
    "else: \n",
    "    print('something went wrong')"
   ]
  }
 ],
 "metadata": {
  "kernelspec": {
   "display_name": "Python 3",
   "language": "python",
   "name": "python3"
  },
  "language_info": {
   "codemirror_mode": {
    "name": "ipython",
    "version": 3
   },
   "file_extension": ".py",
   "mimetype": "text/x-python",
   "name": "python",
   "nbconvert_exporter": "python",
   "pygments_lexer": "ipython3",
   "version": "3.10.2"
  },
  "orig_nbformat": 4
 },
 "nbformat": 4,
 "nbformat_minor": 2
}
