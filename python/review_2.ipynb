{
 "cells": [
  {
   "cell_type": "code",
   "execution_count": null,
   "metadata": {},
   "outputs": [],
   "source": [
    "#idendentiifcar dentro de uma lista,  qual o maior ou menor valor\n",
    "list = [1,2,3,4,10]\n",
    "\n",
    "min = list[0]\n",
    "max = list[0]\n",
    "\n",
    "\n",
    "for i in range(len(list)):\n",
    "    if list[i]< min:\n",
    "        min = list[i]\n",
    "    if list[i] > max:\n",
    "        max = list[i]\n",
    "\n",
    "print(min)\n",
    "print(max)"
   ]
  },
  {
   "cell_type": "code",
   "execution_count": 13,
   "metadata": {},
   "outputs": [
    {
     "name": "stdout",
     "output_type": "stream",
     "text": [
      "<filter object at 0x00000218AE4F8B80>\n"
     ]
    }
   ],
   "source": [
    "with open(\"file1.txt\",\"r\") as filedata:\n",
    "    print(filedata.read())"
   ]
  },
  {
   "cell_type": "code",
   "execution_count": 15,
   "metadata": {},
   "outputs": [
    {
     "name": "stdout",
     "output_type": "stream",
     "text": [
      "True\n",
      "----------------------------\n",
      "-- outra opção -------------\n",
      "match found =  True\n"
     ]
    }
   ],
   "source": [
    "list = [1,2,3,4]\n",
    "item = 2;\n",
    "\n",
    "print(item in list)\n",
    "\n",
    "\n",
    "print(\"----------------------------\")\n",
    "print(\"-- outra opção -------------\")\n",
    "\n",
    "matchfound = False\n",
    "for num in list:\n",
    "    if num == item:\n",
    "        matchfound = True;\n",
    "        break\n",
    "    \n",
    "print(\"match found = \" , matchfound)\n"
   ]
  },
  {
   "cell_type": "code",
   "execution_count": 21,
   "metadata": {},
   "outputs": [
    {
     "name": "stdout",
     "output_type": "stream",
     "text": [
      "300\n",
      "20000\n",
      "0.5\n"
     ]
    },
    {
     "data": {
      "text/plain": [
       "'\\nno caso de ser feito um amultiplicaão: \\n\\n- vai addiconar o 2 zeros ao numeros 1\\n- no caso de ser um adição,  mantemos mesmos zeros,  mas faz a adição de 1+2\\n'"
      ]
     },
     "execution_count": 21,
     "metadata": {},
     "output_type": "execute_result"
    }
   ],
   "source": [
    "num1 = 1_00\n",
    "num2 = 2_00\n",
    "\n",
    "print( num1 + num2)\n",
    "print( num1 * num2)\n",
    "print( num1 / num2)\n",
    "\n",
    "'''\n",
    "no caso de ser feito um amultiplicaão: \n",
    "\n",
    "- vai addiconar o 2 zeros ao numeros 1\n",
    "- no caso de ser um adição,  mantemos mesmos zeros,  mas faz a adição de 1+2\n",
    "'''\n",
    "\n"
   ]
  },
  {
   "cell_type": "code",
   "execution_count": 26,
   "metadata": {},
   "outputs": [
    {
     "name": "stdout",
     "output_type": "stream",
     "text": [
      "3\n",
      "3\n"
     ]
    }
   ],
   "source": [
    "#exercicio para validar quantas vezes um determinado numero aparece dentro de uma lista\n",
    "\n",
    "list = [1,2,3,4,2,2,113,1323,123]\n",
    "\n",
    "print(list.count(2))\n",
    "\n",
    "\n",
    "num = 2\n",
    "count = 0\n",
    "\n",
    "for i in list:\n",
    "    if i == num:\n",
    "        count+=1;\n",
    "        \n",
    "print(count)"
   ]
  },
  {
   "cell_type": "code",
   "execution_count": 29,
   "metadata": {},
   "outputs": [
    {
     "ename": "TypeError",
     "evalue": "'list' object is not callable",
     "output_type": "error",
     "traceback": [
      "\u001b[1;31m---------------------------------------------------------------------------\u001b[0m",
      "\u001b[1;31mTypeError\u001b[0m                                 Traceback (most recent call last)",
      "\u001b[1;32mc:\\UserData\\z004hedj\\OneDrive - Siemens AG\\Ambiente de Trabalho\\GIT\\Data_Engineer\\data_engineer_topics\\python\\review_notebooks\\review_2.ipynb Cell 6\u001b[0m in \u001b[0;36m<cell line: 7>\u001b[1;34m()\u001b[0m\n\u001b[0;32m      <a href='vscode-notebook-cell:/c%3A/UserData/z004hedj/OneDrive%20-%20Siemens%20AG/Ambiente%20de%20Trabalho/GIT/Data_Engineer/data_engineer_topics/python/review_notebooks/review_2.ipynb#W6sZmlsZQ%3D%3D?line=3'>4</a>\u001b[0m x \u001b[39m=\u001b[39m \u001b[39m3\u001b[39m\n\u001b[0;32m      <a href='vscode-notebook-cell:/c%3A/UserData/z004hedj/OneDrive%20-%20Siemens%20AG/Ambiente%20de%20Trabalho/GIT/Data_Engineer/data_engineer_topics/python/review_notebooks/review_2.ipynb#W6sZmlsZQ%3D%3D?line=4'>5</a>\u001b[0m y \u001b[39m=\u001b[39m \u001b[39m20\u001b[39m\n\u001b[1;32m----> <a href='vscode-notebook-cell:/c%3A/UserData/z004hedj/OneDrive%20-%20Siemens%20AG/Ambiente%20de%20Trabalho/GIT/Data_Engineer/data_engineer_topics/python/review_notebooks/review_2.ipynb#W6sZmlsZQ%3D%3D?line=6'>7</a>\u001b[0m lst \u001b[39m=\u001b[39m \u001b[39mlist\u001b[39;49m(\u001b[39mrange\u001b[39;49m(x,y \u001b[39m+\u001b[39;49m\u001b[39m1\u001b[39;49m))\n\u001b[0;32m      <a href='vscode-notebook-cell:/c%3A/UserData/z004hedj/OneDrive%20-%20Siemens%20AG/Ambiente%20de%20Trabalho/GIT/Data_Engineer/data_engineer_topics/python/review_notebooks/review_2.ipynb#W6sZmlsZQ%3D%3D?line=7'>8</a>\u001b[0m \u001b[39mprint\u001b[39m(lst)\n",
      "\u001b[1;31mTypeError\u001b[0m: 'list' object is not callable"
     ]
    }
   ],
   "source": [
    "#generating list\n",
    "\n",
    "\n",
    "x = 3\n",
    "y = 20\n",
    "\n",
    "lst = list(range(x,y +1))\n",
    "print(lst)"
   ]
  },
  {
   "cell_type": "code",
   "execution_count": null,
   "metadata": {},
   "outputs": [],
   "source": [
    "# read pandas csv\n",
    "\n",
    "import pandas as pd\n",
    "\n",
    "\n",
    "data =  pd.read_csv(\"dsds.csv\")\n",
    "\n",
    "print(data.head())\n",
    "#print(data.columns)\n"
   ]
  },
  {
   "cell_type": "code",
   "execution_count": 3,
   "metadata": {},
   "outputs": [
    {
     "ename": "ModuleNotFoundError",
     "evalue": "No module named 'python'",
     "output_type": "error",
     "traceback": [
      "\u001b[1;31m---------------------------------------------------------------------------\u001b[0m",
      "\u001b[1;31mModuleNotFoundError\u001b[0m                       Traceback (most recent call last)",
      "\u001b[1;32mc:\\UserData\\z004hedj\\OneDrive - Siemens AG\\Ambiente de Trabalho\\GIT\\Data_Engineer\\data_engineer_topics\\python\\review_2.ipynb Cell 8\u001b[0m in \u001b[0;36m<cell line: 3>\u001b[1;34m()\u001b[0m\n\u001b[0;32m      <a href='vscode-notebook-cell:/c%3A/UserData/z004hedj/OneDrive%20-%20Siemens%20AG/Ambiente%20de%20Trabalho/GIT/Data_Engineer/data_engineer_topics/python/review_2.ipynb#X10sZmlsZQ%3D%3D?line=0'>1</a>\u001b[0m \u001b[39m#import from one file to another file\u001b[39;00m\n\u001b[1;32m----> <a href='vscode-notebook-cell:/c%3A/UserData/z004hedj/OneDrive%20-%20Siemens%20AG/Ambiente%20de%20Trabalho/GIT/Data_Engineer/data_engineer_topics/python/review_2.ipynb#X10sZmlsZQ%3D%3D?line=2'>3</a>\u001b[0m \u001b[39mfrom\u001b[39;00m \u001b[39mpython\u001b[39;00m\u001b[39m.\u001b[39;00m\u001b[39mStringHelper\u001b[39;00m \u001b[39mimport\u001b[39;00m \u001b[39m*\u001b[39m \n\u001b[0;32m      <a href='vscode-notebook-cell:/c%3A/UserData/z004hedj/OneDrive%20-%20Siemens%20AG/Ambiente%20de%20Trabalho/GIT/Data_Engineer/data_engineer_topics/python/review_2.ipynb#X10sZmlsZQ%3D%3D?line=3'>4</a>\u001b[0m \u001b[39mfrom\u001b[39;00m \u001b[39mapi\u001b[39;00m \u001b[39mimport\u001b[39;00m \u001b[39m*\u001b[39m\n\u001b[0;32m      <a href='vscode-notebook-cell:/c%3A/UserData/z004hedj/OneDrive%20-%20Siemens%20AG/Ambiente%20de%20Trabalho/GIT/Data_Engineer/data_engineer_topics/python/review_2.ipynb#X10sZmlsZQ%3D%3D?line=5'>6</a>\u001b[0m \u001b[39mprint\u001b[39m(\u001b[39m\"\u001b[39m\u001b[39mmain function\u001b[39m\u001b[39m\"\u001b[39m)\n",
      "\u001b[1;31mModuleNotFoundError\u001b[0m: No module named 'python'"
     ]
    }
   ],
   "source": [
    "#import from one file to another file\n",
    "\n",
    "\"\"\"\n",
    "a ideia é usar funçoes de outros ficheiros,  e numm ficheiro main,  fazer a call dessas funções para serem performadas no ficheiro main\n",
    "\"\"\"\n",
    "\n",
    "from python.StringHelper import * \n",
    "from api import *\n",
    "\n",
    "print(\"main function\")\n",
    "API.getApi()\n",
    "\n",
    "Helper.getMessage()\n"
   ]
  },
  {
   "cell_type": "code",
   "execution_count": 5,
   "metadata": {},
   "outputs": [
    {
     "name": "stdout",
     "output_type": "stream",
     "text": [
      "odd indices data: ['y', 'h', 'n', 'i', 't', 'r', 'i', 'w', 'q', 'e', 't', 'o', 's']\n"
     ]
    }
   ],
   "source": [
    "\"\"\"\n",
    "precisamos de usar os dados de uma lista,  e dessa lista vamos fazer uma lista com a penas os index das letras imparre\n",
    "\n",
    "\"\"\"\n",
    "\n",
    "data = \"pythin interview questions\"\n",
    "\n",
    "odd_data = []\n",
    "\n",
    "for i in range(0,len(data)):\n",
    "    if i % 2 !=0:\n",
    "        odd_data.append(data[i])\n",
    "print(\"odd indices data:\", odd_data)"
   ]
  },
  {
   "cell_type": "code",
   "execution_count": 7,
   "metadata": {},
   "outputs": [
    {
     "name": "stdout",
     "output_type": "stream",
     "text": [
      "can edit\n",
      "admin and others with edit can edit\n"
     ]
    }
   ],
   "source": [
    "role =  \"admin\"\n",
    "acess = True\n",
    "\n",
    "#para dar o print,  tem de ter as duas condiçoes iguais\n",
    "if role ==\"admin\" and acess == True:\n",
    "    print(\"can edit\") \n",
    "    \n",
    "#pelo menos um das condiçoes tem des er True,  para ser feitos o print\n",
    "if role ==\"admin\" or acess == True:\n",
    "    print(\"admin and others with edit can edit\")"
   ]
  },
  {
   "cell_type": "code",
   "execution_count": null,
   "metadata": {},
   "outputs": [],
   "source": [
    "#python functions\n",
    "\n",
    "\n",
    "def cleanHtmlCode():\n",
    "    print(\"cleaning data\")\n",
    "\n",
    "def parseHtml():\n",
    "    print(\"parsing html\")\n",
    "    cleanHtmlCode()\n",
    "    print(\"lists data\")\n",
    "\n",
    "def scrapeWebPage():\n",
    "    print(\"accessing Web page\")\n",
    "    parseHtml()\n",
    "\n",
    "scrapeWebPage"
   ]
  },
  {
   "cell_type": "code",
   "execution_count": 8,
   "metadata": {},
   "outputs": [
    {
     "name": "stdout",
     "output_type": "stream",
     "text": [
      "input [1, 2, 1, 0, 1, 4, 2]\n",
      "result  [2, 0, 4, 2, 1, 1, 1]\n"
     ]
    }
   ],
   "source": [
    "numbers = [1,2,1,0,1,4,2]\n",
    "print(\"input\",numbers)\n",
    "\n",
    "for num in numbers:\n",
    "    if num == 1:\n",
    "        # sempre for igual a 1 remover,  mas faz o append do valor 1 removido\n",
    "        numbers.remove(num)\n",
    "        numbers.append(num)\n",
    "print(\"result \", numbers)"
   ]
  },
  {
   "cell_type": "code",
   "execution_count": 12,
   "metadata": {},
   "outputs": [
    {
     "name": "stdout",
     "output_type": "stream",
     "text": [
      "               Name\n",
      "0             sdsad\n",
      "1  q           dsda\n",
      "2            xfsdfs\n",
      "3              fsdf\n",
      "               Name\n",
      "0             Sdsad\n",
      "1  Q           Dsda\n",
      "2            Xfsdfs\n",
      "3              Fsdf\n"
     ]
    }
   ],
   "source": [
    "# pandas data cleaning\n",
    "#pwd -  correr isto num notebook para o caso de nao saber a diretoria\n",
    "\n",
    "\n",
    "import pandas as pd\n",
    "\n",
    "df = pd.read_csv(\"data.csv\")\n",
    "print(df)\n",
    "#Name =  nome da coluna\n",
    "df[\"Name\"] = df[\"Name\"].str.title()\n",
    "df[\"Name\"] = df[\"Name\"].str.strip()\n",
    "\n",
    "print(df)"
   ]
  }
 ],
 "metadata": {
  "kernelspec": {
   "display_name": "Python 3",
   "language": "python",
   "name": "python3"
  },
  "language_info": {
   "codemirror_mode": {
    "name": "ipython",
    "version": 3
   },
   "file_extension": ".py",
   "mimetype": "text/x-python",
   "name": "python",
   "nbconvert_exporter": "python",
   "pygments_lexer": "ipython3",
   "version": "3.10.2"
  },
  "orig_nbformat": 4
 },
 "nbformat": 4,
 "nbformat_minor": 2
}
