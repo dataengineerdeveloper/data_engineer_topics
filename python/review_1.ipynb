{
 "cells": [
  {
   "cell_type": "code",
   "execution_count": 2,
   "metadata": {},
   "outputs": [
    {
     "name": "stdout",
     "output_type": "stream",
     "text": [
      "iphone\n",
      "oneplus\n",
      "MI\n"
     ]
    }
   ],
   "source": [
    "# for loop\n",
    "\n",
    "list = [\"iphone\",\"oneplus\",\"MI\"]\n",
    "\n",
    "\n",
    "for i in list:\n",
    "    print(i)"
   ]
  },
  {
   "cell_type": "code",
   "execution_count": 3,
   "metadata": {},
   "outputs": [
    {
     "name": "stdout",
     "output_type": "stream",
     "text": [
      "200\n"
     ]
    }
   ],
   "source": [
    "#lambda funtions argumentos veem como a, b\n",
    "\n",
    "add = lambda a,b:a*b\n",
    "# neste print sao pasados so valores dos argumentos\n",
    "print(add(10,20))"
   ]
  },
  {
   "cell_type": "code",
   "execution_count": 12,
   "metadata": {},
   "outputs": [
    {
     "name": "stdout",
     "output_type": "stream",
     "text": [
      "{'title': 'iphone', 'desc': 'best camera', 'price': 100}\n",
      "{'title': 'iphone', 'desc': 'best camera', 'price': 100, 'review': 1000, 'discount': '10%'}\n",
      "{'title': 'iphone', 'desc': 'best camera', 'price': 100, 'review': 1000}\n",
      "{'title': 'iphone', 'desc': 'best camera', 'review': 1000}\n",
      "{}\n"
     ]
    }
   ],
   "source": [
    "# add data a um dictionary\n",
    "\n",
    "\n",
    "productdata = {\n",
    "    \"title\": \"iphone\",\n",
    "    \"desc\": \"best camera\",\n",
    "    \"price\": 100,\n",
    "}\n",
    "print(productdata)\n",
    "\n",
    "#adcionei novos campos ao producto review e discount\n",
    "productdata[\"review\"] = 1000\n",
    "productdata[\"discount\"] = \"10%\"\n",
    "\n",
    "print(productdata)\n",
    "\n",
    "# ver como removermos de um dicionario\n",
    "# fazer o mesmo para um tupple\n",
    "\n",
    "\n",
    "# remove items de um dicionario\n",
    "\n",
    "productdata ={'title': 'iphone', 'desc': 'best camera', 'price': 100, 'review': 1000, 'discount': '10%'}\n",
    "\n",
    "# existem alguma forma de como isto pode ser feito\n",
    "\n",
    "# pop\n",
    "productdata.pop(\"discount\")\n",
    "print(productdata)\n",
    "\n",
    "# usar o del no inicio,  depois indicar o item\n",
    "del productdata[\"price\"]\n",
    "print(productdata)\n",
    "\n",
    "#remover tudo dentro do dicionario\n",
    "productdata.clear()\n",
    "print(productdata)\n",
    "\n",
    "\n"
   ]
  },
  {
   "cell_type": "code",
   "execution_count": 7,
   "metadata": {},
   "outputs": [
    {
     "name": "stdout",
     "output_type": "stream",
     "text": [
      "['python', 'java', 'sql']\n",
      "['python', 'java', 'sql', 'go']\n",
      "['javascript', 'python', 'java', 'sql', 'go']\n",
      "['javascript', 'java', 'sql', 'go']\n"
     ]
    }
   ],
   "source": [
    "#add data a uma lista\n",
    "\n",
    "languages= [\"python\", \"java\", \"sql\"]\n",
    "\n",
    "print(languages)\n",
    "\n",
    "#add simplesmento o novo elemento\n",
    "languages.append(\"go\")\n",
    "\n",
    "print(languages)\n",
    "\n",
    "#inserir o elemento num index especifico\n",
    "languages.insert(0,\"javascript\")\n",
    "\n",
    "print(languages)\n",
    "\n",
    "# remover um elemento da lista\n",
    "languages.remove(\"python\")\n",
    "\n",
    "print(languages)\n"
   ]
  },
  {
   "cell_type": "code",
   "execution_count": 9,
   "metadata": {},
   "outputs": [
    {
     "name": "stdout",
     "output_type": "stream",
     "text": [
      "['python', 'java', 'sql']\n",
      "{'python': 6, 'java': 4, 'sql': 3}\n"
     ]
    }
   ],
   "source": [
    "# passar uma lista para um dicionario\n",
    "\n",
    "data = [\"python\",\"java\",\"sql\"]\n",
    "\n",
    "print(data)\n",
    "\n",
    "data = {item: len(item) for item in data}\n",
    "print(data)\n"
   ]
  },
  {
   "cell_type": "code",
   "execution_count": 13,
   "metadata": {},
   "outputs": [
    {
     "name": "stdout",
     "output_type": "stream",
     "text": [
      " ;contact@soft.com; \n",
      ";contact@soft.com;\n",
      "contact@soft.com\n"
     ]
    }
   ],
   "source": [
    "# strip() function\n",
    "\n",
    "\n",
    "email = \" ;contact@soft.com; \"\n",
    "\n",
    "print(email)\n",
    "# usar o strip desta vai remover os espaços existentes\n",
    "email = email.strip()\n",
    "print(email)\n",
    "# remover um caracter em especifico\n",
    "print(email.strip(\";\"))"
   ]
  },
  {
   "cell_type": "code",
   "execution_count": 8,
   "metadata": {},
   "outputs": [
    {
     "name": "stdout",
     "output_type": "stream",
     "text": [
      "do something 2\n"
     ]
    }
   ],
   "source": [
    "#diff entre AND / OR operator\n",
    "\n",
    "\n",
    "num = 25\n",
    "\n",
    "#tem de obdecer ás duas condiçoes ser maior do que 1 e menor de 20\n",
    "if num > 1 and num < 20:\n",
    "    print(\"do something 1\")\n",
    "    \n",
    "# aqui com o OR pode ser obdecer tanto a uma condição com a outro,  OR é maior maior do que 1 OR é menos do que 20\n",
    "if num > 1 or num < 20:\n",
    "    print(\"do something 2\")"
   ]
  },
  {
   "cell_type": "code",
   "execution_count": 19,
   "metadata": {},
   "outputs": [
    {
     "name": "stdout",
     "output_type": "stream",
     "text": [
      "apple\n",
      "banana\n",
      "cherry\n",
      "0 apple\n",
      "1 banana\n",
      "2 cherry\n",
      "---- usando enumerate--\n",
      "0 apple\n",
      "1 banana\n",
      "2 cherry\n"
     ]
    }
   ],
   "source": [
    "#enumerator\n",
    "\n",
    "list = ['apple','banana','cherry']\n",
    "\n",
    "for i in list:\n",
    "    print(i)\n",
    "\n",
    "#contudo se precisarmos de o index de cada elemento da lista\n",
    "\n",
    "for i in range(len(list)):\n",
    "    print(i,list[i])\n",
    "\n",
    "print(\"---- usando enumerate----\")\n",
    "# existe ainda uma forma ainda mais facil para conseguir obter o mesmo resultado\n",
    "\n",
    "for index, values in enumerate(list):\n",
    "    print(index, values)\n"
   ]
  },
  {
   "cell_type": "code",
   "execution_count": 28,
   "metadata": {},
   "outputs": [
    {
     "name": "stdout",
     "output_type": "stream",
     "text": [
      "[4, 16, 36]\n",
      "--- using only a single line of code----\n",
      "[4, 16, 36]\n",
      "--- mesmo resultado que o caso anterior,  mas numa linha so----\n",
      "['HELLO', 'DATA', 'ENGINEER']\n"
     ]
    }
   ],
   "source": [
    "#list compresitions\n",
    "\n",
    "numbers = [1,2,3,4,5,6]\n",
    "\n",
    "even_squared = []\n",
    "for index in numbers:\n",
    "    if index % 2 ==0:\n",
    "        even_squared.append(index**2)\n",
    "print(even_squared)\n",
    "\n",
    "print(\"--- using only a single line of code----\")\n",
    "\n",
    "even_squared = [ index ** 2 for index in numbers if index % 2 == 0]\n",
    "print(even_squared)\n",
    "\n",
    "print(\"--- mesmo resultado que o caso anterior,  mas numa linha so----\")\n",
    "\n",
    "\n",
    "words = ['hello','data', 'engineer']\n",
    "\n",
    "# vamos iniciar um lista\n",
    "\n",
    "capitalized = [word.upper() for word in words]\n",
    "print(capitalized)\n",
    "\n",
    "capitalized = [word.capitalize() for word in words]\n",
    "print(capitalized)\n",
    "\n"
   ]
  }
 ],
 "metadata": {
  "kernelspec": {
   "display_name": "Python 3",
   "language": "python",
   "name": "python3"
  },
  "language_info": {
   "codemirror_mode": {
    "name": "ipython",
    "version": 3
   },
   "file_extension": ".py",
   "mimetype": "text/x-python",
   "name": "python",
   "nbconvert_exporter": "python",
   "pygments_lexer": "ipython3",
   "version": "3.10.2"
  },
  "orig_nbformat": 4
 },
 "nbformat": 4,
 "nbformat_minor": 2
}
