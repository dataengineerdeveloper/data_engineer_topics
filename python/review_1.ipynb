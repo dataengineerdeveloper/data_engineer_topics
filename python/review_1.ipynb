{
 "cells": [
  {
   "cell_type": "code",
   "execution_count": 2,
   "metadata": {},
   "outputs": [
    {
     "name": "stdout",
     "output_type": "stream",
     "text": [
      "iphone\n",
      "oneplus\n",
      "MI\n"
     ]
    }
   ],
   "source": [
    "# for loop\n",
    "\n",
    "list = [\"iphone\",\"oneplus\",\"MI\"]\n",
    "\n",
    "\n",
    "for i in list:\n",
    "    print(i)"
   ]
  },
  {
   "cell_type": "code",
   "execution_count": 1,
   "metadata": {},
   "outputs": [
    {
     "name": "stdout",
     "output_type": "stream",
     "text": [
      "[1, 2, 3, 44]\n",
      "[1, 2, 3, 44]\n"
     ]
    }
   ],
   "source": [
    "#Using copy to copy a list\n",
    "\n",
    "a = [1,2,3,44]\n",
    "b = a.copy()\n",
    "\n",
    "print(a)\n",
    "print(b)\n"
   ]
  },
  {
   "cell_type": "code",
   "execution_count": 3,
   "metadata": {},
   "outputs": [
    {
     "name": "stdout",
     "output_type": "stream",
     "text": [
      "a =  20\n",
      "b =  10\n"
     ]
    }
   ],
   "source": [
    "# swap variables\n",
    "\n",
    "a = 10\n",
    "b = 20\n",
    "a,b = b,a\n",
    "print('a = ', a)\n",
    "print('b = ', b)"
   ]
  },
  {
   "cell_type": "code",
   "execution_count": 3,
   "metadata": {},
   "outputs": [
    {
     "name": "stdout",
     "output_type": "stream",
     "text": [
      "200\n"
     ]
    }
   ],
   "source": [
    "#lambda funtions argumentos veem como a, b\n",
    "\n",
    "add = lambda a,b:a*b\n",
    "# neste print sao pasados so valores dos argumentos\n",
    "print(add(10,20))"
   ]
  },
  {
   "cell_type": "code",
   "execution_count": 12,
   "metadata": {},
   "outputs": [
    {
     "name": "stdout",
     "output_type": "stream",
     "text": [
      "{'title': 'iphone', 'desc': 'best camera', 'price': 100}\n",
      "{'title': 'iphone', 'desc': 'best camera', 'price': 100, 'review': 1000, 'discount': '10%'}\n",
      "{'title': 'iphone', 'desc': 'best camera', 'price': 100, 'review': 1000}\n",
      "{'title': 'iphone', 'desc': 'best camera', 'review': 1000}\n",
      "{}\n"
     ]
    }
   ],
   "source": [
    "# add data a um dictionary\n",
    "\n",
    "\n",
    "productdata = {\n",
    "    \"title\": \"iphone\",\n",
    "    \"desc\": \"best camera\",\n",
    "    \"price\": 100,\n",
    "}\n",
    "print(productdata)\n",
    "\n",
    "#adcionei novos campos ao producto review e discount\n",
    "productdata[\"review\"] = 1000\n",
    "productdata[\"discount\"] = \"10%\"\n",
    "\n",
    "print(productdata)\n",
    "\n",
    "# ver como removermos de um dicionario\n",
    "# fazer o mesmo para um tupple\n",
    "\n",
    "\n",
    "# remove items de um dicionario\n",
    "\n",
    "productdata ={'title': 'iphone', 'desc': 'best camera', 'price': 100, 'review': 1000, 'discount': '10%'}\n",
    "\n",
    "# existem alguma forma de como isto pode ser feito\n",
    "\n",
    "# pop\n",
    "productdata.pop(\"discount\")\n",
    "print(productdata)\n",
    "\n",
    "# usar o del no inicio,  depois indicar o item\n",
    "del productdata[\"price\"]\n",
    "print(productdata)\n",
    "\n",
    "#remover tudo dentro do dicionario\n",
    "productdata.clear()\n",
    "print(productdata)\n",
    "\n",
    "\n"
   ]
  },
  {
   "cell_type": "code",
   "execution_count": 6,
   "metadata": {},
   "outputs": [
    {
     "name": "stdout",
     "output_type": "stream",
     "text": [
      "['python', 'java', 'sql']\n",
      "['python', 'java', 'sql', 'go']\n",
      "['javascript', 'python', 'java', 'sql', 'go']\n",
      "['javascript', 'java', 'sql', 'go']\n",
      "['javascript', 'java', 'csharp', 'sql', 'go']\n",
      "c\n",
      "o\n"
     ]
    },
    {
     "ename": "TypeError",
     "evalue": "'str' object does not support item assignment",
     "output_type": "error",
     "traceback": [
      "\u001b[1;31m---------------------------------------------------------------------------\u001b[0m",
      "\u001b[1;31mTypeError\u001b[0m                                 Traceback (most recent call last)",
      "\u001b[1;32mc:\\UserData\\z004hedj\\OneDrive - Siemens AG\\Ambiente de Trabalho\\GIT\\Data_Engineer\\data_engineer_topics\\python\\review_1.ipynb Cell 4\u001b[0m in \u001b[0;36m<cell line: 29>\u001b[1;34m()\u001b[0m\n\u001b[0;32m     <a href='vscode-notebook-cell:/c%3A/UserData/z004hedj/OneDrive%20-%20Siemens%20AG/Ambiente%20de%20Trabalho/GIT/Data_Engineer/data_engineer_topics/python/review_1.ipynb#W3sZmlsZQ%3D%3D?line=26'>27</a>\u001b[0m \u001b[39mprint\u001b[39m(data[\u001b[39m0\u001b[39m])\n\u001b[0;32m     <a href='vscode-notebook-cell:/c%3A/UserData/z004hedj/OneDrive%20-%20Siemens%20AG/Ambiente%20de%20Trabalho/GIT/Data_Engineer/data_engineer_topics/python/review_1.ipynb#W3sZmlsZQ%3D%3D?line=27'>28</a>\u001b[0m \u001b[39mprint\u001b[39m(data[\u001b[39m1\u001b[39m])\n\u001b[1;32m---> <a href='vscode-notebook-cell:/c%3A/UserData/z004hedj/OneDrive%20-%20Siemens%20AG/Ambiente%20de%20Trabalho/GIT/Data_Engineer/data_engineer_topics/python/review_1.ipynb#W3sZmlsZQ%3D%3D?line=28'>29</a>\u001b[0m data[\u001b[39m0\u001b[39m] \u001b[39m=\u001b[39m \u001b[39m\"\u001b[39m\u001b[39mk\u001b[39m\u001b[39m\"\u001b[39m\n\u001b[0;32m     <a href='vscode-notebook-cell:/c%3A/UserData/z004hedj/OneDrive%20-%20Siemens%20AG/Ambiente%20de%20Trabalho/GIT/Data_Engineer/data_engineer_topics/python/review_1.ipynb#W3sZmlsZQ%3D%3D?line=29'>30</a>\u001b[0m \u001b[39mprint\u001b[39m(data)\n",
      "\u001b[1;31mTypeError\u001b[0m: 'str' object does not support item assignment"
     ]
    }
   ],
   "source": [
    "#add data a uma lista\n",
    "\n",
    "languages= [\"python\", \"java\", \"sql\"]\n",
    "\n",
    "print(languages)\n",
    "\n",
    "#add simplesmento o novo elemento\n",
    "languages.append(\"go\")\n",
    "\n",
    "print(languages)\n",
    "\n",
    "#inserir o elemento num index especifico\n",
    "languages.insert(0,\"javascript\")\n",
    "\n",
    "print(languages)\n",
    "\n",
    "# remover um elemento da lista\n",
    "languages.remove(\"python\")\n",
    "\n",
    "print(languages)\n",
    "\n",
    "languages.insert(2,\"csharp\")\n",
    "print(languages)\n",
    "\n",
    "\n",
    "data = \"coding is easy and fun\"\n",
    "print(data[0])\n",
    "print(data[1])\n",
    "data[0] = \"k\"\n",
    "print(data)\n"
   ]
  },
  {
   "cell_type": "code",
   "execution_count": 20,
   "metadata": {},
   "outputs": [
    {
     "name": "stdout",
     "output_type": "stream",
     "text": [
      "date time:  2023-08-28 12:02:27.558881\n",
      "Data:  2023-08-28\n",
      "formated: 28-08-23\n",
      "formated: 23-Aug-28\n",
      "year:  2023\n",
      "year:  8\n",
      "year:  28\n",
      "year:  12\n",
      "year:  2\n"
     ]
    }
   ],
   "source": [
    "# date handling\n",
    "import datetime\n",
    "\n",
    "d = datetime.datetime.now()\n",
    "print(\"date time: \",d)\n",
    "print(\"Data: \", d.date())\n",
    "\n",
    "print(\"formated:\", d.strftime(\"%d-%m-%y\"))\n",
    "print(\"formated:\", d.strftime(\"%y-%b-%d\"))\n",
    "\n",
    "print(\"year: \", d.year)\n",
    "print(\"year: \", d.month)\n",
    "print(\"year: \", d.day)\n",
    "print(\"year: \", d.hour)\n",
    "print(\"year: \", d.minute)"
   ]
  },
  {
   "cell_type": "code",
   "execution_count": 9,
   "metadata": {},
   "outputs": [
    {
     "name": "stdout",
     "output_type": "stream",
     "text": [
      "['python', 'java', 'sql']\n",
      "{'python': 6, 'java': 4, 'sql': 3}\n"
     ]
    }
   ],
   "source": [
    "# passar uma lista para um dicionario\n",
    "\n",
    "data = [\"python\",\"java\",\"sql\"]\n",
    "\n",
    "print(data)\n",
    "\n",
    "data = {item: len(item) for item in data}\n",
    "print(data)\n"
   ]
  },
  {
   "cell_type": "code",
   "execution_count": 13,
   "metadata": {},
   "outputs": [
    {
     "name": "stdout",
     "output_type": "stream",
     "text": [
      " ;contact@soft.com; \n",
      ";contact@soft.com;\n",
      "contact@soft.com\n"
     ]
    }
   ],
   "source": [
    "# strip() function\n",
    "\n",
    "\n",
    "email = \" ;contact@soft.com; \"\n",
    "\n",
    "print(email)\n",
    "# usar o strip desta vai remover os espaços existentes\n",
    "email = email.strip()\n",
    "print(email)\n",
    "# remover um caracter em especifico\n",
    "print(email.strip(\";\"))"
   ]
  },
  {
   "cell_type": "code",
   "execution_count": 8,
   "metadata": {},
   "outputs": [
    {
     "name": "stdout",
     "output_type": "stream",
     "text": [
      "do something 2\n"
     ]
    }
   ],
   "source": [
    "#diff entre AND / OR operator\n",
    "\n",
    "\n",
    "num = 25\n",
    "\n",
    "#tem de obdecer ás duas condiçoes ser maior do que 1 e menor de 20\n",
    "if num > 1 and num < 20:\n",
    "    print(\"do something 1\")\n",
    "    \n",
    "# aqui com o OR pode ser obdecer tanto a uma condição com a outro,  OR é maior maior do que 1 OR é menos do que 20\n",
    "if num > 1 or num < 20:\n",
    "    print(\"do something 2\")"
   ]
  },
  {
   "cell_type": "code",
   "execution_count": 15,
   "metadata": {},
   "outputs": [
    {
     "name": "stdout",
     "output_type": "stream",
     "text": [
      "invalid login\n",
      "login success\n"
     ]
    }
   ],
   "source": [
    "# logical operator > AND\n",
    "\n",
    "dbemail = \"contact@email.com\"\n",
    "dbpass = \"12345\"\n",
    "\n",
    "useremail = \"contact@email.com\"\n",
    "#pass aqui vai estar diferente\n",
    "userpass = \"123456\"\n",
    "\n",
    "\n",
    "if(dbemail == useremail  and dbpass  == userpass):\n",
    "    print(\"login success\")\n",
    "else:\n",
    "    print(\"invalid login\")\n",
    "    \n",
    "\n",
    "# logical operator > OR\n",
    "# sendo uma das condiçoes verdadeiras a mensagem vai dar com sucesso\n",
    "#mesmo que a pass esteja errada\n",
    "\n",
    "dbemail = \"contact@email.com\"\n",
    "dbpass = \"12345\"\n",
    "\n",
    "useremail = \"contact@email.com\"\n",
    "#pass aqui vai estar diferente\n",
    "userpass = \"123456\"\n",
    "\n",
    "\n",
    "if(dbemail == useremail  or dbpass  == userpass):\n",
    "    print(\"login success\")\n",
    "else:\n",
    "    print(\"invalid login\")\n"
   ]
  },
  {
   "cell_type": "code",
   "execution_count": 19,
   "metadata": {},
   "outputs": [
    {
     "name": "stdout",
     "output_type": "stream",
     "text": [
      "apple\n",
      "banana\n",
      "cherry\n",
      "0 apple\n",
      "1 banana\n",
      "2 cherry\n",
      "---- usando enumerate--\n",
      "0 apple\n",
      "1 banana\n",
      "2 cherry\n"
     ]
    }
   ],
   "source": [
    "#enumerator\n",
    "\n",
    "list = ['apple','banana','cherry']\n",
    "\n",
    "for i in list:\n",
    "    print(i)\n",
    "\n",
    "#contudo se precisarmos de o index de cada elemento da lista\n",
    "\n",
    "for i in range(len(list)):\n",
    "    print(i,list[i])\n",
    "\n",
    "print(\"---- usando enumerate----\")\n",
    "# existe ainda uma forma ainda mais facil para conseguir obter o mesmo resultado\n",
    "\n",
    "for index, values in enumerate(list):\n",
    "    print(index, values)\n"
   ]
  },
  {
   "cell_type": "code",
   "execution_count": 28,
   "metadata": {},
   "outputs": [
    {
     "name": "stdout",
     "output_type": "stream",
     "text": [
      "[4, 16, 36]\n",
      "--- using only a single line of code----\n",
      "[4, 16, 36]\n",
      "--- mesmo resultado que o caso anterior,  mas numa linha so----\n",
      "['HELLO', 'DATA', 'ENGINEER']\n"
     ]
    }
   ],
   "source": [
    "#list compresitions\n",
    "\n",
    "numbers = [1,2,3,4,5,6]\n",
    "\n",
    "even_squared = []\n",
    "for index in numbers:\n",
    "    if index % 2 ==0:\n",
    "        even_squared.append(index**2)\n",
    "print(even_squared)\n",
    "\n",
    "print(\"--- using only a single line of code----\")\n",
    "\n",
    "even_squared = [ index ** 2 for index in numbers if index % 2 == 0]\n",
    "print(even_squared)\n",
    "\n",
    "print(\"--- mesmo resultado que o caso anterior,  mas numa linha so----\")\n",
    "\n",
    "\n",
    "words = ['hello','data', 'engineer']\n",
    "\n",
    "# vamos iniciar um lista\n",
    "\n",
    "capitalized = [word.upper() for word in words]\n",
    "print(capitalized)\n",
    "\n",
    "capitalized = [word.capitalize() for word in words]\n",
    "print(capitalized)\n",
    "\n"
   ]
  },
  {
   "cell_type": "code",
   "execution_count": 11,
   "metadata": {},
   "outputs": [
    {
     "name": "stdout",
     "output_type": "stream",
     "text": [
      "we found 007\n"
     ]
    }
   ],
   "source": [
    "# when to use while loop\n",
    "\n",
    "videoTitles = [\"adventures\",\"spiderman\",\n",
    "               \"terminator\",\"007\", \"GOT\"]\n",
    "\n",
    "isTaskCompleted = False\n",
    "index = 0\n",
    "\n",
    "while(isTaskCompleted == False):\n",
    "    \n",
    "    if videoTitles[index] == \"007\":\n",
    "        isTaskCompleted = True\n",
    "        print(\"we found 007\")\n",
    "    \n",
    "    index =  index +1"
   ]
  },
  {
   "cell_type": "code",
   "execution_count": 5,
   "metadata": {},
   "outputs": [
    {
     "name": "stdout",
     "output_type": "stream",
     "text": [
      "a 10\n",
      "b 20\n",
      "0.5\n",
      "a 20\n",
      "b 10\n",
      "2.0\n",
      "---- using kwargs ---\n",
      "a 10\n",
      "b 20\n",
      "0.5\n",
      "a 20\n",
      "b 10\n",
      "2.0\n"
     ]
    }
   ],
   "source": [
    "#kwargs -  functions\n",
    "\n",
    "def div (a,b):\n",
    "    print(\"a\",a)\n",
    "    print(\"b\",b)\n",
    "    print(a/b)\n",
    "\n",
    "div(10,20)\n",
    "div(20, 10)\n",
    "\n",
    "print(\"---- using kwargs ---\")\n",
    "\n",
    "\n",
    "def div2 (**args):\n",
    "    print(\"a\",args['a'])\n",
    "    print(\"b\",args['b'])\n",
    "    print(args['a']/ args['b'])\n",
    "\n",
    "div2(a=10,b=20)\n",
    "div2(a=20,b=10)"
   ]
  },
  {
   "cell_type": "code",
   "execution_count": 9,
   "metadata": {},
   "outputs": [
    {
     "name": "stdout",
     "output_type": "stream",
     "text": [
      "like added\n",
      "Comment added\n"
     ]
    }
   ],
   "source": [
    "# classes & functions\n",
    "\n",
    "\n",
    "class VideoActions:\n",
    "    \n",
    "    def addLike():\n",
    "        print(\"like added\")\n",
    "    \n",
    "    def dislike():\n",
    "        print(\"dislike\")\n",
    "    \n",
    "    def addComment():\n",
    "        print(\"Comment added\")\n",
    "    \n",
    "    def deleteComment():\n",
    "        print(\"Comment delete\")\n",
    "    \n",
    "    def updateComment():\n",
    "        print(\"comment updated\")\n",
    "    \n",
    "    def reportVideo():\n",
    "        print(\"Videos reported\")\n",
    "\n",
    "VideoActions.addLike()\n",
    "VideoActions.addComment()"
   ]
  },
  {
   "cell_type": "code",
   "execution_count": null,
   "metadata": {},
   "outputs": [],
   "source": []
  }
 ],
 "metadata": {
  "kernelspec": {
   "display_name": "Python 3",
   "language": "python",
   "name": "python3"
  },
  "language_info": {
   "codemirror_mode": {
    "name": "ipython",
    "version": 3
   },
   "file_extension": ".py",
   "mimetype": "text/x-python",
   "name": "python",
   "nbconvert_exporter": "python",
   "pygments_lexer": "ipython3",
   "version": "3.10.2"
  },
  "orig_nbformat": 4
 },
 "nbformat": 4,
 "nbformat_minor": 2
}
