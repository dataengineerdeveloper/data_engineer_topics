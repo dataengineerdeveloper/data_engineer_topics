{
 "cells": [
  {
   "cell_type": "code",
   "execution_count": 2,
   "metadata": {},
   "outputs": [
    {
     "ename": "TypeError",
     "evalue": "average() takes 3 positional arguments but 5 were given",
     "output_type": "error",
     "traceback": [
      "\u001b[1;31m---------------------------------------------------------------------------\u001b[0m",
      "\u001b[1;31mTypeError\u001b[0m                                 Traceback (most recent call last)",
      "\u001b[1;32mc:\\UserData\\z004hedj\\OneDrive - Siemens AG\\Ambiente de Trabalho\\GIT\\Data_Engineer\\data_engineer_topics\\python\\Python-practice\\pratice-python.ipynb Cell 1\u001b[0m in \u001b[0;36m<cell line: 15>\u001b[1;34m()\u001b[0m\n\u001b[0;32m     <a href='vscode-notebook-cell:/c%3A/UserData/z004hedj/OneDrive%20-%20Siemens%20AG/Ambiente%20de%20Trabalho/GIT/Data_Engineer/data_engineer_topics/python/Python-practice/pratice-python.ipynb#W0sZmlsZQ%3D%3D?line=11'>12</a>\u001b[0m     avg \u001b[39m=\u001b[39m (a\u001b[39m+\u001b[39mb\u001b[39m+\u001b[39mc) \u001b[39m/\u001b[39m \u001b[39m3\u001b[39m\n\u001b[0;32m     <a href='vscode-notebook-cell:/c%3A/UserData/z004hedj/OneDrive%20-%20Siemens%20AG/Ambiente%20de%20Trabalho/GIT/Data_Engineer/data_engineer_topics/python/Python-practice/pratice-python.ipynb#W0sZmlsZQ%3D%3D?line=12'>13</a>\u001b[0m     \u001b[39mprint\u001b[39m(avg)\n\u001b[1;32m---> <a href='vscode-notebook-cell:/c%3A/UserData/z004hedj/OneDrive%20-%20Siemens%20AG/Ambiente%20de%20Trabalho/GIT/Data_Engineer/data_engineer_topics/python/Python-practice/pratice-python.ipynb#W0sZmlsZQ%3D%3D?line=14'>15</a>\u001b[0m average(\u001b[39m7\u001b[39;49m,\u001b[39m4\u001b[39;49m,\u001b[39m13\u001b[39;49m,\u001b[39m19\u001b[39;49m,\u001b[39m18\u001b[39;49m)\n\u001b[0;32m     <a href='vscode-notebook-cell:/c%3A/UserData/z004hedj/OneDrive%20-%20Siemens%20AG/Ambiente%20de%20Trabalho/GIT/Data_Engineer/data_engineer_topics/python/Python-practice/pratice-python.ipynb#W0sZmlsZQ%3D%3D?line=15'>16</a>\u001b[0m average(\u001b[39m3\u001b[39m,\u001b[39m6\u001b[39m,\u001b[39m23\u001b[39m,\u001b[39m1\u001b[39m)\n\u001b[0;32m     <a href='vscode-notebook-cell:/c%3A/UserData/z004hedj/OneDrive%20-%20Siemens%20AG/Ambiente%20de%20Trabalho/GIT/Data_Engineer/data_engineer_topics/python/Python-practice/pratice-python.ipynb#W0sZmlsZQ%3D%3D?line=16'>17</a>\u001b[0m average(\u001b[39m8\u001b[39m,\u001b[39m3\u001b[39m)\n",
      "\u001b[1;31mTypeError\u001b[0m: average() takes 3 positional arguments but 5 were given"
     ]
    }
   ],
   "source": [
    "#*args\n",
    "'''\n",
    "existe um argumento que está presente na funçao,  que por default coloca a,b,c.  Contudo no caso de a apliçai fizer a call de apenas 2 argumentos,  ou entao mais, do que aqules argumentos qu estao definidos\n",
    "a aplicaoa vasi falhar. \n",
    "\n",
    "Por isso a asolução poara este caso é usar o *args\n",
    "\n",
    "'''\n",
    "\n",
    "#aqui  vai dar erro, porque na linhas finais podemso ver que está presente,  mais argumentos do que aqueles qu estao definidos na funçao\n",
    "def average (a,b,c):\n",
    "    avg = (a+b+c) / 3\n",
    "    print(avg)\n",
    "\n",
    "average(7,4,13,19,18)\n",
    "average(3,6,23,1)\n",
    "average(8,3)\n",
    "\n",
    "\n",
    "# de form anao dar erro,  oque temos de fzzer é cria rum * args\n",
    "\n",
    "# a soluçao tem o nome de unpacking operator\n",
    "def average (*args):\n",
    "    avg = sum(args) / len(args)\n",
    "    print(avg)\n",
    "\n",
    "average(7,4,13,19,18)\n",
    "average(3,6,23,1)\n",
    "average(8,3)\n",
    "\n",
    "\n"
   ]
  },
  {
   "cell_type": "code",
   "execution_count": 3,
   "metadata": {},
   "outputs": [
    {
     "name": "stdout",
     "output_type": "stream",
     "text": [
      "12.2\n",
      "8.25\n",
      "5.5\n"
     ]
    }
   ],
   "source": [
    "\n",
    "# a soluçao tem o nome de unpacking operator\n",
    "def average (*args):\n",
    "    avg = sum(args) / len(args)\n",
    "    print(avg)\n",
    "\n",
    "average(7,4,13,19,18)\n",
    "average(3,6,23,1)\n",
    "average(8,3)\n",
    "\n",
    "\n"
   ]
  },
  {
   "cell_type": "code",
   "execution_count": 1,
   "metadata": {},
   "outputs": [
    {
     "name": "stdout",
     "output_type": "stream",
     "text": [
      "['a', 'b', 'c', 'd']\n"
     ]
    }
   ],
   "source": [
    "'''\n",
    "- problema lsta com duplicados;\n",
    "- temos de remover os duplicados e colocar os elementos da lista em ordem;\n",
    "\n",
    "\n",
    "1 abordagem:  usar um set e depois converter numa lista,  contudo sets nao colocar elementos da lista em ordem\n",
    "\n",
    "2  abordagem : criar uma nova lista vazia e criar um for loop para iterar sobre a lista old\n",
    "    - validar se o item is not in old:\n",
    "    - no caso de nao existir faz o append na lista new\n",
    "    \n",
    "old = ['a','b','a','c','d','d']\n",
    "new = []\n",
    "for item in old:\n",
    "    if item not in new:\n",
    "        new.append(item)\n",
    "print(new)\n",
    "\n",
    "\n",
    "COntudo exister um forma muito mais rapiuda de fazer esta validação (codigo fora do comentario)\n",
    "\n",
    "'''\n",
    "\n",
    "old = ['a','b','a','c','d','d']\n",
    "\n",
    "#se deixarmos desta forma vaos ver um o resultado dos valores apresntados com odicionario\n",
    "#new =   dict.fromkeys(old)\n",
    "\n",
    "#contudo aqui neste caso vamos converter para uma lista e queremos apenas que seja apresentadas as keys\n",
    "new =   list(dict.fromkeys(old).keys())\n",
    "print(new)\n",
    "\n",
    "\n",
    "#output :  ['a', 'b', 'c', 'd']"
   ]
  },
  {
   "cell_type": "code",
   "execution_count": 5,
   "metadata": {},
   "outputs": [
    {
     "name": "stdout",
     "output_type": "stream",
     "text": [
      "{'shield': 1, 'sword': 2, 'potion': 5}\n"
     ]
    }
   ],
   "source": [
    "#o que vamos apresentar aqui é uma forma de criar um agragaçao entre dicionarios, contudo eu nao quero que as key fique repetidas dentro do mesmo dicionario,  apenas que seja agregados os valores\n",
    "\n",
    "inv ={\n",
    "    'sword':1,\n",
    "    'potion':3\n",
    "}\n",
    "loot ={\n",
    "    'sword':1,\n",
    "    'potion':2,\n",
    "    'shield': 1\n",
    "}\n",
    "\n",
    "# dictionary compreension\n",
    "\n",
    "\n",
    "new_inv ={\n",
    "    #k como a nossa key variable se k nao existe coloca o valor 0\n",
    "    k: inv.get(k,0) + loot.get(k,0)\n",
    "    #aqui vai iterar sobre a vairable k e usar o operator de union (|)\n",
    "        for k in set(inv | loot)\n",
    "}\n",
    "print(new_inv)\n"
   ]
  },
  {
   "cell_type": "code",
   "execution_count": 6,
   "metadata": {},
   "outputs": [
    {
     "name": "stdout",
     "output_type": "stream",
     "text": [
      "0\n"
     ]
    }
   ],
   "source": [
    "''' list organization\n",
    "temos inventory e precisamos de mover o promeiro elemento da lista e passar para ultimo.\n",
    "\n",
    "passos a seguir\n",
    "\n",
    "1. identificar o index do primeiro elemento\n",
    "2. criar uma nova variable e usar a funcao de pop para remover o primeiro elemento\n",
    "3. user a lista inv e fazer append da variable item\n",
    "\n",
    "conclusao:  o primeiro elemento vai ser removido,  e com a criação da nova variable vai ser incluido atraves do append\n",
    "\n",
    "'''\n",
    "\n",
    "inv = [\n",
    "    'Gem',\n",
    "    'Sword',\n",
    "    'Shield',\n",
    "    'Health Potion'\n",
    "]\n",
    "\n",
    "indx = inv.index('Gem')\n",
    "item = inv.pop(indx)\n",
    "inv.append(item)\n",
    "\n",
    "print(inv)\n",
    "\n",
    "\n",
    "'''\n",
    "\n",
    "Exercicios: fazer o mesmo para outros elementos da lista:  sword,shield ou entao com outras listas\n",
    "\n",
    "'''"
   ]
  },
  {
   "cell_type": "code",
   "execution_count": 8,
   "metadata": {},
   "outputs": [
    {
     "name": "stdout",
     "output_type": "stream",
     "text": [
      "8\n"
     ]
    }
   ],
   "source": [
    "'''\n",
    "a ideia deste exercicio é validar  dentro de uma lista qual o elemento que ocorre com mais frequencia\n",
    "\n",
    "1. usar o max para apresentar o mais volume de ocorrencia,  porque dentro da funçao vamos ter um count para contar o numero de vezes que a key aparece dentro da lista\n",
    "\n",
    "\n",
    "#nota ao usasr o set estamos tornar o codigo mais optimizado,  porque remove logo os duplicados\n",
    "'''\n",
    "\n",
    "x =  [1,2,3,4,5,5,6,7,7,7,8,8,8,8]\n",
    "\n",
    "most= max(set(x),key=x.count)\n",
    "print(most)\n",
    "\n"
   ]
  },
  {
   "cell_type": "code",
   "execution_count": 9,
   "metadata": {},
   "outputs": [
    {
     "name": "stdout",
     "output_type": "stream",
     "text": [
      "([1, 2], [3, 4])\n"
     ]
    }
   ],
   "source": [
    "'''\n",
    "se a teoria nao se pode alter um tupples, porque estes sao unchangeable\n",
    "\n",
    "1. dentro deste tuples vamos colocar 2 elememtos de lista\n",
    "2. na segunta lista que está dentro do tuple é [3] e queremos passar par 4\n",
    "\n",
    "\n",
    "conclusao:  com a lterarçaio é feita dentro da lista e nao o do tupple em si nao temo um erro,  porque par o tupple existem na mesam duas listas dentro do tuple, nao importa a quantida de valores que\n",
    "adicione para dentro da lista\n",
    "'''\n",
    "\n",
    "tup = ([1,2],[3])\n",
    "\n",
    "tup[1].append(4)\n",
    "\n",
    "print(tup)\n",
    "\n",
    "\n",
    "# exercicio : adiconar mais elemento dentro da lista\n"
   ]
  },
  {
   "cell_type": "code",
   "execution_count": 11,
   "metadata": {},
   "outputs": [
    {
     "name": "stdout",
     "output_type": "stream",
     "text": [
      "invalid input\n"
     ]
    }
   ],
   "source": [
    "'''\n",
    "clean python input handling\n",
    "\n",
    "1. para isto vamos ter de usar o match case\n",
    "2. \n",
    "\n",
    "'''\n",
    "\n",
    "def do_this():\n",
    "    print('Doing this')\n",
    "\n",
    "def do_that():\n",
    "    print('Doing that')\n",
    "    \n",
    "match input('do this or that'):\n",
    "    case 'this':\n",
    "        do_this()\n",
    "    case 'that':\n",
    "        do_that()\n",
    "    case _:\n",
    "        print('invalid input')"
   ]
  },
  {
   "cell_type": "code",
   "execution_count": null,
   "metadata": {},
   "outputs": [],
   "source": [
    "import time\n",
    "from itertools import cycle\n",
    "\n",
    "ligths = [\n",
    "    ('green',2),\n",
    "    ('yellow',0.5),\n",
    "    ('red',2)\n",
    "]\n",
    "colors = cycle(ligths)\n",
    "while True:\n",
    "    # Color and Seconds\n",
    "    c,s = next(colors)\n",
    "    print(c)\n",
    "    time.sleep(s)\n",
    "\n",
    "\n"
   ]
  },
  {
   "cell_type": "code",
   "execution_count": 16,
   "metadata": {},
   "outputs": [
    {
     "name": "stdout",
     "output_type": "stream",
     "text": [
      "yout.com\n",
      "win.com\n",
      "ty.com\n"
     ]
    }
   ],
   "source": [
    "'''\n",
    "vamos ter um conjunto de links numa lista,  sendo que precisamos de remover o www. que está incial, contudo se usarmos a primeiro abordagem, vamos ter o seguinte probelma:\n",
    "\n",
    "1. abordagem 1: usar o lstri eindicar que vamos ter de remover o www. o w present no wwww.win.com ,  tb vai ser removido\n",
    "\n",
    "2. abordagem 2:  \n",
    "'''\n",
    "\n",
    "links = [\n",
    "    \"www.yout.com\",\n",
    "    \"www.win.com\",\n",
    "    \"www.ty.com\"\n",
    "]\n",
    "\n",
    "'''\n",
    "abordagem 1,  vai remover todas as letra iguais a W\n",
    "\n",
    "\n",
    "for i in links:\n",
    "    print(i.lstrip('www.'))\n",
    "\n",
    "print()\n",
    "'''\n",
    "\n",
    "'''\n",
    "abordagem 2\n",
    "\n",
    "em fez de usar o lstrip vamos usarmos removeprefix\n",
    "\n",
    "'''\n",
    "\n",
    "for i in links:\n",
    "    print(i.removeprefix('www.'))\n",
    "\n",
    "\n"
   ]
  },
  {
   "cell_type": "code",
   "execution_count": 18,
   "metadata": {},
   "outputs": [
    {
     "name": "stdout",
     "output_type": "stream",
     "text": [
      "Running do_this\n",
      "Doing this\n",
      "complete\n",
      "Running do_that\n",
      "Doing that\n",
      "complete\n"
     ]
    }
   ],
   "source": [
    "'''\n",
    "what are decorators of wrapers in python\n",
    "\n",
    "'''\n",
    "def my_decorator(func):\n",
    "    def wrapper():\n",
    "        print(f'Running {func.__name__}')\n",
    "        func()\n",
    "        print(\"complete\")\n",
    "    return wrapper\n",
    "\n",
    "@my_decorator\n",
    "def do_this():\n",
    "    print('Doing this')\n",
    "\n",
    "@my_decorator\n",
    "def do_that():\n",
    "    print('Doing that')\n",
    "    \n",
    "do_this()\n",
    "do_that()\n",
    "    "
   ]
  },
  {
   "cell_type": "code",
   "execution_count": 20,
   "metadata": {},
   "outputs": [
    {
     "name": "stdout",
     "output_type": "stream",
     "text": [
      "starting this!\n",
      "starting that!\n"
     ]
    },
    {
     "name": "stdout",
     "output_type": "stream",
     "text": [
      "did this!\n",
      "did that!\n"
     ]
    }
   ],
   "source": [
    "'''\n",
    "no caso de precisarmos que duas funcoes corrram em simultaneo, uma das opcoes é usarmos\n",
    "o\n",
    "\n",
    "'''\n",
    "\n",
    "\n",
    "import time\n",
    "from threading import Thread\n",
    "\n",
    "def do_this():\n",
    "    print('starting this!')\n",
    "    time.sleep(2)\n",
    "    print('did this!')\n",
    "\n",
    "def do_that():\n",
    "    print('starting that!')\n",
    "    time.sleep(2)\n",
    "    print('did that!')\n",
    "    \n",
    "#do_this()\n",
    "#do_that()\n",
    "\n",
    "\n",
    "\n",
    "t1 = Thread(target=do_this)\n",
    "t1.start()\n",
    "\n",
    "t2 = Thread(target=do_that)\n",
    "t2.start()"
   ]
  }
 ],
 "metadata": {
  "kernelspec": {
   "display_name": "Python 3",
   "language": "python",
   "name": "python3"
  },
  "language_info": {
   "codemirror_mode": {
    "name": "ipython",
    "version": 3
   },
   "file_extension": ".py",
   "mimetype": "text/x-python",
   "name": "python",
   "nbconvert_exporter": "python",
   "pygments_lexer": "ipython3",
   "version": "3.10.2"
  },
  "orig_nbformat": 4
 },
 "nbformat": 4,
 "nbformat_minor": 2
}
