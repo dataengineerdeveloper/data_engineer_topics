{
 "cells": [
  {
   "cell_type": "code",
   "execution_count": 18,
   "metadata": {},
   "outputs": [
    {
     "name": "stdout",
     "output_type": "stream",
     "text": [
      "10 <class 'str'>\n",
      "True <class 'bool'>\n"
     ]
    }
   ],
   "source": [
    "'''\n",
    "conversao de variaveisl para outro data types\n",
    "\n",
    "\n",
    "str\n",
    "float\n",
    "bool\n",
    "complex\n",
    "int\n",
    "\n",
    "existe alguns tipos que nao conseguimos converter p caso de int para str a nao ser que coloquemos a o valor de 10 por exemplo entre pelicas\n",
    "\n",
    "'''\n",
    "\n",
    "x = str(10)\n",
    "print(x,type(x)) # output disto: 10 class 'str'\n",
    "\n",
    "x = bool(10)\n",
    "print(x, type(x))\n",
    "\n",
    "\n",
    "\n"
   ]
  },
  {
   "cell_type": "code",
   "execution_count": 57,
   "metadata": {},
   "outputs": [
    {
     "name": "stdout",
     "output_type": "stream",
     "text": [
      "---- this regaring append\n",
      "[10, 50, 8, 'hi', True] 2582199970496\n",
      "[10, 50, 8, 'hi', True, 50] 2582199970496\n",
      "------------------------\n",
      "---- this regaring insert\n",
      "[10, 'hello', 50, 8, 'hi', True, 44, 55, 0]\n",
      "------------------------\n",
      "---- this regaring copy\n",
      "[10, 'copy', 'hello', 50, 8, 'hi', True, 44, 55, 0]\n",
      "------------------------\n",
      "---- this regaring remove\n",
      "[10, 'hello', 50, 8, True, 44, 55, 0]\n",
      "------------------------\n",
      "---- this regaring pop\n",
      "[10, 50, 8, True, 44, 55, 0]\n",
      "------------------------\n",
      "---- this regaring clear\n",
      "[]\n",
      "------------------------\n",
      "---- this regaring index\n",
      "0\n",
      "------------------------\n",
      "---- this regaring count\n",
      "2\n",
      "------------------------\n",
      "---- this regaring reverse\n",
      "[8, 78, 6, 3, 3, 2, 1]\n",
      "------------------------\n",
      "---- this regaring sort\n",
      "[100, 67, 5, 3, 3, 2, 1]\n",
      "------------------------\n",
      "---- this regaring extend\n",
      "[1, 2, 3, 3, 'hello extend']\n",
      "------------------------\n",
      "3\n",
      "neste list\n"
     ]
    }
   ],
   "source": [
    "'''\n",
    "LISTS\n",
    "\n",
    "-  curiosidades qundo criamos uma lista,  podemos encontrar dentro da lista: \n",
    "\n",
    "1. valores duplicados\n",
    "2. diferentes tipos de dados\n",
    "\n",
    "\n",
    "\n",
    "os proximos exemplos chamam-se em python pre-defined functions\n",
    "\n",
    "'''\n",
    "\n",
    "#append\n",
    "l = [10, 50,8, \"hi\", True]\n",
    "# colocando aqui o id conseguimos ver o id que stá a ser gerado, por traz e neste caso com a utilizaçao do append nao foi criada uma nova lista,  mas sim apenas adiconada\n",
    "print(\"---- this regaring append\")\n",
    "print(l,id(l))\n",
    "l.append(50)\n",
    "print(l,id(l))\n",
    "print(\"------------------------\")\n",
    "\n",
    "#insert\n",
    "\n",
    "l = [10, 50,8, \"hi\", True, 44,55,00]\n",
    "# aqui indicamos o index que queresmo que o nosso novo elemento seja colocado\n",
    "l.insert(1,'hello')\n",
    "print(\"---- this regaring insert\")\n",
    "print(l)\n",
    "print(\"------------------------\")\n",
    "\n",
    "#Copy\n",
    "\n",
    "l2 = l.copy()\n",
    "# fazemos o copy da variavel l ,  depois an linha que sesegue vamos ainda usar um insert,m  para inserir um novopo elemento que \"copy\" na nova list\n",
    "print(\"---- this regaring copy\")\n",
    "l2.insert(1,\"copy\")\n",
    "print(l2)\n",
    "print(\"------------------------\")\n",
    "\n",
    "\n",
    "#remove\n",
    "# apenas +e necesario usar o remove e identificar o elemento da lista\n",
    "l.remove(\"hi\")\n",
    "print(\"---- this regaring remove\")\n",
    "print(l)\n",
    "print(\"------------------------\")\n",
    "\n",
    "#pop\n",
    "# existem 2 forma que podemso usar o pop,  espeficando o index,  ou no caso de ao espeficarmos vamos ter por default o ultimo elemto da lisa removido\n",
    "l.pop(1)\n",
    "print(\"---- this regaring pop\")\n",
    "print(l)\n",
    "print(\"------------------------\")\n",
    "\n",
    "\n",
    "#clear\n",
    "# esta funcao o que faz é eiminar os elemtos dentro da lista,  se corrermos valos deixar de ter elementos dentro da lista\n",
    "\n",
    "lc = [1,2,3,3, \"clear all elements from a list\"]\n",
    "lc.clear()\n",
    "print(\"---- this regaring clear\")\n",
    "print(lc)\n",
    "print(\"------------------------\")\n",
    "\n",
    "\n",
    "#index\n",
    "# permitenos identificar a posiçao de onde está o elemento\n",
    "li = [1,2,3,3, \"clear all elements from a list\"]\n",
    "print(\"---- this regaring index\")\n",
    "print(li.index(1))\n",
    "print(\"------------------------\")\n",
    "\n",
    "\n",
    "#count\n",
    "# serve para validarmos dentro de uma lista, o numero de vezes que um determinado elemento é repetido numa lista.  temos apenas de especificar o elemento que queremos validar na lista\n",
    "lcount = [1,2,3,3,9,9]\n",
    "print(\"---- this regaring count\")\n",
    "print(lcount.count(9))\n",
    "print(\"------------------------\")\n",
    "\n",
    "\n",
    "#reverse\n",
    "# neste caso nao precisamos de especificar nada, por default vai ser dados o reverse dos lemntos presentes na lista\n",
    "lreverse = [1,2,3,3,6,78,8]\n",
    "print(\"---- this regaring reverse\")\n",
    "lreverse.reverse()\n",
    "print(lreverse)\n",
    "print(\"------------------------\")\n",
    "\n",
    "\n",
    "#sort\n",
    "# para usarmos de modo asc ou desc temos de usar ainda o reverse, e indicar se o reverse = True / False.  No caso denao usarmo resevrse o default é sempre falso\n",
    "lsort = [1,2,3,3,  5,67, 100]\n",
    "print(\"---- this regaring sort\")\n",
    "#true =  desc / False = asc\n",
    "lsort.sort(reverse = True)\n",
    "print(lsort)\n",
    "print(\"------------------------\")\n",
    "\n",
    "\n",
    "#extend\n",
    "# consegu e faze ro merge de duas lsta diferentes\n",
    "l1 = [1,2,3,3]\n",
    "l2 = [\"hello extend\"]\n",
    "print(\"---- this regaring extend\")\n",
    "l1.extend(l2)\n",
    "print(l1)\n",
    "print(\"------------------------\")\n",
    "\n",
    "\n",
    "#nested list\n",
    "#conhecido,  como inserir uma lista dentro de uma lista\n",
    "\n",
    "nested = [1,2,3,[\"hello\", \"neste list\"],30, 78]\n",
    "print(nested[2])\n",
    "print(nested[3][1])\n",
    "\n",
    "'''\n",
    "conclusao como temos umlista dentro de uma list,  o que temos de fazer no caso de precisarmos fazer o rtrieve de de um dos elementos\n",
    "da lista qe está neste,  temos de indicar o index da lista nested,  e depois indicar o indix do elemento que stá neste do alista,  como\n",
    "o ultimo exemplo que está ser feito opretrieve de nested list\n",
    "\n",
    "'''"
   ]
  },
  {
   "cell_type": "code",
   "execution_count": 5,
   "metadata": {},
   "outputs": [
    {
     "name": "stdout",
     "output_type": "stream",
     "text": [
      "hi\n",
      "(50.8, 'hi')\n",
      "(10, 50.8, 'hi', 20)\n",
      "[1, 2, 3] <class 'list'>\n",
      "(1, 2, 3) <class 'tuple'>\n",
      "b\n",
      "2\n",
      "{10, 20, 50.8, 'hi'} <class 'set'>\n",
      "{'hello', 10, 50.8, 20, 'hi'}\n"
     ]
    },
    {
     "ename": "TypeError",
     "evalue": "'set' object does not support item assignment",
     "output_type": "error",
     "traceback": [
      "\u001b[1;31m---------------------------------------------------------------------------\u001b[0m",
      "\u001b[1;31mTypeError\u001b[0m                                 Traceback (most recent call last)",
      "\u001b[1;32mc:\\UserData\\z004hedj\\OneDrive - Siemens AG\\Ambiente de Trabalho\\GIT\\Data_Engineer\\data_engineer_topics\\python\\py_basic_shorts\\shorts_review.ipynb Cell 3\u001b[0m line \u001b[0;36m<cell line: 53>\u001b[1;34m()\u001b[0m\n\u001b[0;32m     <a href='vscode-notebook-cell:/c%3A/UserData/z004hedj/OneDrive%20-%20Siemens%20AG/Ambiente%20de%20Trabalho/GIT/Data_Engineer/data_engineer_topics/python/py_basic_shorts/shorts_review.ipynb#W2sZmlsZQ%3D%3D?line=49'>50</a>\u001b[0m s\u001b[39m.\u001b[39madd(\u001b[39m\"\u001b[39m\u001b[39mhello\u001b[39m\u001b[39m\"\u001b[39m)\n\u001b[0;32m     <a href='vscode-notebook-cell:/c%3A/UserData/z004hedj/OneDrive%20-%20Siemens%20AG/Ambiente%20de%20Trabalho/GIT/Data_Engineer/data_engineer_topics/python/py_basic_shorts/shorts_review.ipynb#W2sZmlsZQ%3D%3D?line=50'>51</a>\u001b[0m \u001b[39mprint\u001b[39m(s)\n\u001b[1;32m---> <a href='vscode-notebook-cell:/c%3A/UserData/z004hedj/OneDrive%20-%20Siemens%20AG/Ambiente%20de%20Trabalho/GIT/Data_Engineer/data_engineer_topics/python/py_basic_shorts/shorts_review.ipynb#W2sZmlsZQ%3D%3D?line=52'>53</a>\u001b[0m s[\u001b[39m2\u001b[39m] \u001b[39m=\u001b[39m \u001b[39m\"\u001b[39m\u001b[39mola\u001b[39m\u001b[39m\"\u001b[39m\n\u001b[0;32m     <a href='vscode-notebook-cell:/c%3A/UserData/z004hedj/OneDrive%20-%20Siemens%20AG/Ambiente%20de%20Trabalho/GIT/Data_Engineer/data_engineer_topics/python/py_basic_shorts/shorts_review.ipynb#W2sZmlsZQ%3D%3D?line=53'>54</a>\u001b[0m \u001b[39mprint\u001b[39m(s)\n",
      "\u001b[1;31mTypeError\u001b[0m: 'set' object does not support item assignment"
     ]
    }
   ],
   "source": [
    "'''\n",
    "Tuples\n",
    "- vaslores dentro de um tuple podem ser duplicados, e varios tipos de dados\n",
    "- tal com acontece com o list,  podem ser criar um um tuple vazio, sem nada dentro do mesmo\n",
    "- tambem dá para usar slice and index\n",
    "- contrariamente a listas  tuples sao immutable,  nao suporta manipulação. Sendo esta a unica diferença de uma lista =  mutable // enquanto que tuple = immutable\n",
    "\n",
    "'''\n",
    "\n",
    "#indexing operation\n",
    "\n",
    "t = (10, 50.8,\"hi\",20)\n",
    "print(t[2])\n",
    "print(t[1:3])\n",
    "\n",
    "# se tentarmos fazer um operaçaoq ue seja aplicar um novo valor a um eleme,nto do tuple o que vamos ter ér um erro a indicar que ano suporta aquele tipode de operaçao\n",
    "#t[1] = 10\n",
    "print(t) # TypeError: 'tuple' object does not support item assignment\n",
    "\n",
    "# conseguimos converter por exemplo um lista para tuple\n",
    "\n",
    "l = [1,2,3]\n",
    "t = tuple(l)\n",
    "print(l,type(l))\n",
    "print(t,type(t))\n",
    "\n",
    "# inner or nested tuple > ja vismos anteriormente este caso nas listas tb conseguimos fazer a mesma coisa, que atraves do segundo index presente no print conseguimso chegar ao que está com inner tupple\n",
    "n_tupla=('a','b',(1,2,3),'c','d')\n",
    "print(n_tupla[1])\n",
    "print(n_tupla[2][1])\n",
    "\n",
    "\n",
    "# set \n",
    "'''\n",
    "\n",
    "um devd de conter os seu valores dentro de curly bracquest.\n",
    "-  utilizar um set nao permite a utlizaçao de  index e slicing\n",
    "-  contudo um set,  pdoe ser imutable e mutable,  se3 tentarmos fazer um slice ou index,  vamos ter um erro,\n",
    "\n",
    "\n",
    "'''\n",
    "s = {10,50.8,\"hi\",20}\n",
    "print(s,type(s))\n",
    "# ao fazer isto avamos ter um erro\n",
    "##print(s[2])\n",
    "##print(s[1:3])\n",
    "\n",
    "# contudo se tentarmos usar um add num set,  já vamos conseguir acrescentar um novo elementos no set\n",
    "#neste sentido o set aqui comportasse com sendo mutable, ouse ja podems er feitas alteraçoes no set\n",
    "s.add(\"hello\")\n",
    "print(s)\n",
    "\n",
    "\n"
   ]
  },
  {
   "cell_type": "code",
   "execution_count": 20,
   "metadata": {},
   "outputs": [
    {
     "name": "stdout",
     "output_type": "stream",
     "text": [
      "range(1, 10, 2) <class 'range'>\n",
      "1\n",
      "3\n",
      "5\n",
      "7\n",
      "9\n"
     ]
    }
   ],
   "source": [
    "'''dentro do range podemos ter:\n",
    "\n",
    "1. apenas um valor que apresenta o limite do for loop\n",
    "2. tendo 2 valores o 1 é onde vai iniciar o range e o 2 é onde termina\n",
    "3.  podemos ianda acrecentrar o 3 valor dentro do,  mas neste caso é para indicarmmos qual o valor que salter\n",
    " \n",
    "\n",
    "'''\n",
    "\n",
    "# este tamb+em popde ser um exercicso para o caso que eu querer numa range de numero apenas encontrar os num impares ou pares\n",
    "r = range(1, 10,2)\n",
    "print(r,type(r))\n",
    "for i in r:\n",
    "    print(i)\n",
    "\n",
    "\n",
    "\n"
   ]
  },
  {
   "cell_type": "code",
   "execution_count": 1,
   "metadata": {},
   "outputs": [
    {
     "data": {
      "text/plain": [
       "True"
      ]
     },
     "execution_count": 1,
     "metadata": {},
     "output_type": "execute_result"
    }
   ],
   "source": [
    "'''\n",
    "all function : a utilizaçao desta funcion permite que se consiga validar todos os lemento sdentro de uma lista,\n",
    "neste caso é para validar as idades se estao acima de 18,  caso de confirme o output esperado é que seja True.\n",
    "\n",
    "i  =  iteration\n",
    "'''\n",
    "\n",
    "ages = [19,23,67]\n",
    "\n",
    "is_adult = all(i >= 18 for i in ages)\n",
    "is_adult"
   ]
  },
  {
   "cell_type": "code",
   "execution_count": 12,
   "metadata": {},
   "outputs": [
    {
     "name": "stdout",
     "output_type": "stream",
     "text": [
      "[0, 1, 2, 3, 4, 5, 6, 7, 8, 9]\n",
      "[0, 2, 4, 6, 8]\n",
      "[1, 3, 5, 7, 9]\n"
     ]
    }
   ],
   "source": [
    "'''\n",
    "list comprehension -  ver com mais detalhe extamente o que é isto\n",
    "\n",
    "'''\n",
    "\n",
    "\n",
    "\n",
    "\n",
    "one_to_ten = [i for i in range(10)]\n",
    "\n",
    "even_one_to_ten = [i for i in range(10) if i % 2 ==0]\n",
    "odd_one_to_ten = [i for i in range(10) if i % 2 !=0]\n",
    "\n",
    "print(one_to_ten)\n",
    "print(even_one_to_ten)\n",
    "print(odd_one_to_ten)"
   ]
  },
  {
   "cell_type": "code",
   "execution_count": 30,
   "metadata": {},
   "outputs": [
    {
     "name": "stdout",
     "output_type": "stream",
     "text": [
      "[2]\n"
     ]
    }
   ],
   "source": [
    "'''\n",
    "list comphrension 1 abordagem\n",
    "\n",
    "'''\n",
    "\n",
    "nums = [23,2,4545,89,9]\n",
    "evens = []\n",
    "\n",
    "for num in nums:\n",
    "    if (num % 2 == 0):\n",
    "        evens.append(num)\n",
    "print(evens)"
   ]
  },
  {
   "cell_type": "code",
   "execution_count": 29,
   "metadata": {},
   "outputs": [
    {
     "name": "stdout",
     "output_type": "stream",
     "text": [
      "[2]\n"
     ]
    }
   ],
   "source": [
    "'''\n",
    "list comphrension 2 abordagem >  e mais simples para usar,  fica tudo apenas numa linha\n",
    "\n",
    "'''\n",
    "\n",
    "nums = [23,2,4545,89,9]\n",
    "even = [num for num in nums if num% 2 ==0]\n",
    "print(even)"
   ]
  },
  {
   "cell_type": "code",
   "execution_count": 8,
   "metadata": {},
   "outputs": [
    {
     "name": "stdout",
     "output_type": "stream",
     "text": [
      "a is 2\n",
      "b is 1\n"
     ]
    }
   ],
   "source": [
    "\n",
    "'''\n",
    "swap variables\n",
    "\n",
    "'''\n",
    "\n",
    "a= 1\n",
    "b= 2\n",
    "\n",
    "# apenas precisei de criar uma nova varaible a indicar exatamente a troca das dos valores das variaveis\n",
    "a,b = b,a\n",
    "\n",
    "print(f'a is {a}')\n",
    "print(f'b is {b}')"
   ]
  },
  {
   "cell_type": "code",
   "execution_count": 2,
   "metadata": {},
   "outputs": [
    {
     "name": "stdout",
     "output_type": "stream",
     "text": [
      "rrrr\n",
      "rrrrrr\n",
      "rrrr rrrrrr\n"
     ]
    }
   ],
   "source": [
    "'''\n",
    "string multiply\n",
    "\n",
    "'''\n",
    "\n",
    "\n",
    "a = 'r' * 4\n",
    "b = 'r' * 6\n",
    "\n",
    "print(a)\n",
    "print(b)\n",
    "print(a,b)"
   ]
  },
  {
   "cell_type": "code",
   "execution_count": 4,
   "metadata": {},
   "outputs": [
    {
     "name": "stdout",
     "output_type": "stream",
     "text": [
      "{1, 2, 3, 4, 5, 6, 7}\n",
      "{4, 5}\n"
     ]
    }
   ],
   "source": [
    "\n",
    "'''\n",
    "sets\n",
    "\n",
    "1. union > | - precismao de fzer o union entre os dois sets\n",
    "2. intercept > & -  vaslidar elementos iguais netre sets\n",
    "\n",
    "\n",
    "'''\n",
    "\n",
    "\n",
    "myset1 = {1,2,3,4,5}\n",
    "myset2 = {4,5,6,7}\n",
    "\n",
    "unionset = myset1 | myset2\n",
    "print(unionset)\n",
    "\n",
    "\n",
    "interseptsectionSet = myset1 & myset2\n",
    "print(interseptsectionSet)\n"
   ]
  },
  {
   "cell_type": "code",
   "execution_count": 9,
   "metadata": {},
   "outputs": [
    {
     "name": "stdout",
     "output_type": "stream",
     "text": [
      "['santos', 'eduardo', 'luis']\n",
      "[1, 7, 6, 5]\n"
     ]
    }
   ],
   "source": [
    "'''\n",
    "reverse array\n",
    "\n",
    "para conseguir reverter a ordem da lista, apenas é preciso usar:\n",
    "\n",
    "1. criar um nova varaivel\n",
    "2. nessa nova variavel apenas é preciso fzer referencia á variavel anterior e depois usar ::-1\n",
    "\n",
    "'''\n",
    "\n",
    "people = ['luis','eduardo','santos']\n",
    "reverse_people = people[::-1]\n",
    "\n",
    "nums = [5,6,7,1]\n",
    "reversed_nums = nums[::-1]\n",
    "\n",
    "print(reverse_people)\n",
    "print(reversed_nums)"
   ]
  },
  {
   "cell_type": "code",
   "execution_count": 6,
   "metadata": {},
   "outputs": [
    {
     "name": "stdout",
     "output_type": "stream",
     "text": [
      "O valor 10 é positivo? True\n"
     ]
    }
   ],
   "source": [
    "'''\n",
    "eixste uma outra forma de fazer um if statement em apenas um linha.\n",
    "\n",
    "a foprma mais comum com o fariamos este if statemet seria: \n",
    "\n",
    "x=10\n",
    "\n",
    "if x < 10:\n",
    "    print('x é menor que 5')    \n",
    "else :\n",
    "    print ('x não é menor que 5')\n",
    "    \n",
    "contudo existe a seguinte forma de fazer o mesmo apenas numa linha\n",
    "'''\n",
    "\n",
    "x=10\n",
    "\n",
    "is_positive = True if x >= 0 else False\n",
    "print(f'O valor {x} é positivo? {is_positive}')\n",
    "\n",
    "\n",
    "'''\n",
    "um teste:  validar se conseguimos colocar mais do que uma condiçao de validaçao\n",
    "\n",
    "'''\n"
   ]
  },
  {
   "cell_type": "code",
   "execution_count": null,
   "metadata": {},
   "outputs": [],
   "source": [
    "\n",
    "# nome deste ficheiro que seja hello.py\n",
    "def say_hello(name):\n",
    "    print('hello'+ name)\n",
    "    \n",
    "# podemos ainda fazer a call de outro file existe por exemplo com Age.py\n",
    "\n",
    "def say_age(age):\n",
    "    print('your are ',str(age), 'year old')\n",
    "    \n",
    "\n",
    "\n",
    "#ficheiro que vamos usar para fazer o call da funcao presente no ficheiro Hello.py\n",
    "# vamos fazer a segunda call,  mas agora para o ficheiros de age.py\n",
    "\n",
    "\n",
    "from hello import say_hello\n",
    "from age import say_age\n",
    "\n",
    "say_hello(\"john\")\n",
    "say_age(59)\n",
    "\n",
    "\n",
    "# assim que corrermos a funçao o output será : Hello John\n",
    "# assim que corrermos a funçao o output será : you are 59 years old"
   ]
  },
  {
   "cell_type": "code",
   "execution_count": 3,
   "metadata": {},
   "outputs": [
    {
     "name": "stdout",
     "output_type": "stream",
     "text": [
      "8 15\n"
     ]
    }
   ],
   "source": [
    "'''\n",
    "return multiple variables\n",
    "\n",
    "'''\n",
    "\n",
    "def match(x,y):\n",
    "    return (x +y, x*y)\n",
    "\n",
    "sum,multi = match(3,5)\n",
    "print(sum,multi)\n"
   ]
  },
  {
   "cell_type": "code",
   "execution_count": 4,
   "metadata": {},
   "outputs": [
    {
     "name": "stdout",
     "output_type": "stream",
     "text": [
      "<!doctype html><html itemscope=\"\" itemtype=\"http://schema.org/WebPage\" lang=\"es\"><head><meta content=\"Google.es permite acceder a la información mundial en castellano, catalán, gallego, euskara e inglés.\" name=\"description\"><meta content=\"noodp\" name=\"robots\"><meta content=\"text/html; charset=UTF-8\" http-equiv=\"Content-Type\"><meta content=\"/images/branding/googleg/1x/googleg_standard_color_128dp.png\" itemprop=\"image\"><title>Google</title><script nonce=\"dgDPjI7qKGZYQhTZdYSVJA\">(function(){var _g={kEI:'wIkEZfPFH4mThbIPsaSw0As',kEXPI:'0,18167,1347301,206,4804,2316,383,246,5,1129120,1197722,679,302561,77529,16114,28684,22431,1361,283,12035,17581,4998,13744,3331,6885,31559,2872,2891,3926,214,7614,606,29843,28444,2402,2615,13491,230,20583,4,4755,41203,11443,2216,27032,6642,7596,1,42154,2,3357,36404,5679,1021,31122,4568,6252,23424,1252,40028,19673,8155,23351,873,6577,13056,7,1922,9779,42459,20199,927,4869,3,14433,7651,12555,8377,24363,2266,764,6110,5041,4665,1804,33097,2172,5249,6564,842,791,2173,7537,5278,11713,3052,4862,7653,5089,3,9,5400,5213731,2,195,5994866,2803118,3311,141,795,19735,1,1,346,8474,94,2,8,26,7,12,7,106,34,10,2,113,82,17,23941490,579,4043528,1008,15665,36925,2358,1621,3939,1395096,392637,22608626,758007,12799,8408,2093,787,335,1259,111,977,8897,241,496,241,1228,3165,470,1,1,4382,2686,724,1597,1,475,906,1542,1501,876,3,2814,412,481,1253,1295,254,1278,5,1788,117,1625,2374,553,1261,65,599,1,1,922,1218,495,302,42,1493,1283,2,1387,3979,894,884,880,1422,278,153,1223,377,2070,278,97,100,704,300,474,2,119,2414,1757,1133,89,22,726,250,786,261,1252,82,439,62,555,1773,74,9,266,613,819,1,3,4,2,2,2,112,153,1056,47,561,834,175,11,8,877,603,3,406,172,16,1435,4,320,99,575,108,48,266,10,839,352,7,1,8,504,292,550,2438,344,7,1,8,90,170,318,201,4,240,4,6,5,15,36,197,215,150,4,850,4,813,375,40,541,13,235,1372,150,214,829,202,1073',kBL:'lzi2',kOPI:89978449};(function(){var a;(null==(a=window.google)?0:a.stvsc)?google.kEI=_g.kEI:window.google=_g;}).call(this);})();(function(){google.sn='webhp';google.kHL='es';})();(function(){\n",
      "var h=this||self;function l(){return void 0!==window.google&&void 0!==window.google.kOPI&&0!==window.google.kOPI?window.google.kOPI:null};var m,n=[];function p(a){for(var b;a&&(!a.getAttribute||!(b=a.getAttribute(\"eid\")));)a=a.parentNode;return b||m}function q(a){for(var b=null;a&&(!a.getAttribute||!(b=a.getAttribute(\"leid\")));)a=a.parentNode;return b}function r(a){/^http:/i.test(a)&&\"https:\"===window.location.protocol&&(google.ml&&google.ml(Error(\"a\"),!1,{src:a,glmm:1}),a=\"\");return a}\n",
      "function t(a,b,c,d,k){var e=\"\";-1===b.search(\"&ei=\")&&(e=\"&ei=\"+p(d),-1===b.search(\"&lei=\")&&(d=q(d))&&(e+=\"&lei=\"+d));d=\"\";var g=-1===b.search(\"&cshid=\")&&\"slh\"!==a,f=[];f.push([\"zx\",Date.now().toString()]);h._cshid&&g&&f.push([\"cshid\",h._cshid]);c=c();null!=c&&f.push([\"opi\",c.toString()]);for(c=0;c<f.length;c++){if(0===c||0<c)d+=\"&\";d+=f[c][0]+\"=\"+f[c][1]}return\"/\"+(k||\"gen_204\")+\"?atyp=i&ct=\"+String(a)+\"&cad=\"+(b+e+d)};m=google.kEI;google.getEI=p;google.getLEI=q;google.ml=function(){return null};google.log=function(a,b,c,d,k,e){e=void 0===e?l:e;c||(c=t(a,b,e,d,k));if(c=r(c)){a=new Image;var g=n.length;n[g]=a;a.onerror=a.onload=a.onabort=function(){delete n[g]};a.src=c}};google.logUrl=function(a,b){b=void 0===b?l:b;return t(\"\",a,b)};}).call(this);(function(){google.y={};google.sy=[];google.x=function(a,b){if(a)var c=a.id;else{do c=Math.random();while(google.y[c])}google.y[c]=[a,b];return!1};google.sx=function(a){google.sy.push(a)};google.lm=[];google.plm=function(a){google.lm.push.apply(google.lm,a)};google.lq=[];google.load=function(a,b,c){google.lq.push([[a],b,c])};google.loadAll=function(a,b){google.lq.push([a,b])};google.bx=!1;google.lx=function(){};var d=[];google.fce=function(a,b,c,e){d.push([a,b,c,e])};google.qce=d;}).call(this);google.f={};(function(){\n",
      "document.documentElement.addEventListener(\"submit\",function(b){var a;if(a=b.target){var c=a.getAttribute(\"data-submitfalse\");a=\"1\"===c||\"q\"===c&&!a.elements.q.value?!0:!1}else a=!1;a&&(b.preventDefault(),b.stopPropagation())},!0);document.documentElement.addEventListener(\"click\",function(b){var a;a:{for(a=b.target;a&&a!==document.documentElement;a=a.parentElement)if(\"A\"===a.tagName){a=\"1\"===a.getAttribute(\"data-nohref\");break a}a=!1}a&&b.preventDefault()},!0);}).call(this);</script><style>#gbar,#guser{font-size:13px;padding-top:1px !important;}#gbar{height:22px}#guser{padding-bottom:7px !important;text-align:right}.gbh,.gbd{border-top:1px solid #c9d7f1;font-size:1px}.gbh{height:0;position:absolute;top:24px;width:100%}@media all{.gb1{height:22px;margin-right:.5em;vertical-align:top}#gbar{float:left}}a.gb1,a.gb4{text-decoration:underline !important}a.gb1,a.gb4{color:#00c !important}.gbi .gb4{color:#dd8e27 !important}.gbf .gb4{color:#900 !important}\n",
      "</style><style>body,td,a,p,.h{font-family:arial,sans-serif}body{margin:0;overflow-y:scroll}#gog{padding:3px 8px 0}td{line-height:.8em}.gac_m td{line-height:17px}form{margin-bottom:20px}.h{color:#1967d2}em{font-weight:bold;font-style:normal}.lst{height:25px;width:496px}.gsfi,.lst{font:18px arial,sans-serif}.gsfs{font:17px arial,sans-serif}.ds{display:inline-box;display:inline-block;margin:3px 0 4px;margin-left:4px}input{font-family:inherit}body{background:#fff;color:#000}a{color:#681da8;text-decoration:none}a:hover,a:active{text-decoration:underline}.fl a{color:#1967d2}a:visited{color:#681da8}.sblc{padding-top:5px}.sblc a{display:block;margin:2px 0;margin-left:13px;font-size:11px}.lsbb{background:#f8f9fa;border:solid 1px;border-color:#dadce0 #70757a #70757a #dadce0;height:30px}.lsbb{display:block}#WqQANb a{display:inline-block;margin:0 12px}.lsb{background:url(/images/nav_logo229.png) 0 -261px repeat-x;color:#000;border:none;cursor:pointer;height:30px;margin:0;outline:0;font:15px arial,sans-serif;vertical-align:top}.lsb:active{background:#dadce0}.lst:focus{outline:none}</style><script nonce=\"dgDPjI7qKGZYQhTZdYSVJA\">(function(){window.google.erd={jsr:1,bv:1866,de:true};\n",
      "var l=this||self;var m,n=null!=(m=l.mei)?m:1,p,q=null!=(p=l.sdo)?p:!0,r=0,t,u=google.erd,v=u.jsr;google.ml=function(a,b,d,h,e){e=void 0===e?2:e;b&&(t=a&&a.message);if(google.dl)return google.dl(a,e,d),null;if(0>v){window.console&&console.error(a,d);if(-2===v)throw a;b=!1}else b=!a||!a.message||\"Error loading script\"===a.message||r>=n&&!h?!1:!0;if(!b)return null;r++;d=d||{};b=encodeURIComponent;var c=\"/gen_204?atyp=i&ei=\"+b(google.kEI);google.kEXPI&&(c+=\"&jexpid=\"+b(google.kEXPI));c+=\"&srcpg=\"+b(google.sn)+\"&jsr=\"+b(u.jsr)+\"&bver=\"+b(u.bv);var f=a.lineNumber;void 0!==f&&(c+=\"&line=\"+f);var g=\n",
      "a.fileName;g&&(0<g.indexOf(\"-extension:/\")&&(e=3),c+=\"&script=\"+b(g),f&&g===window.location.href&&(f=document.documentElement.outerHTML.split(\"\\n\")[f],c+=\"&cad=\"+b(f?f.substring(0,300):\"No script found.\")));c+=\"&cad=ple_\"+google.ple+\".aple_\"+google.aple;google.ple&&1===google.ple&&(e=2);c+=\"&jsel=\"+e;for(var k in d)c+=\"&\",c+=b(k),c+=\"=\",c+=b(d[k]);c=c+\"&emsg=\"+b(a.name+\": \"+a.message);c=c+\"&jsst=\"+b(a.stack||\"N/A\");12288<=c.length&&(c=c.substr(0,12288));a=c;h||google.log(0,\"\",a);return a};window.onerror=function(a,b,d,h,e){if(t!==a){a=e instanceof Error?e:Error(a);void 0===d||\"lineNumber\"in a||(a.lineNumber=d);void 0===b||\"fileName\"in a||(a.fileName=b);b=void 0;if(a.stack&&(-1!==a.stack.indexOf(\"?xjs=s0\")||-1!==a.stack.indexOf(\"&xjs=s0\"))){b=document.querySelectorAll(\"script[src*=\\\\/xjs\\\\/_\\\\/js\\\\/]\");for(h=d=0;h<b.length;h++)d+=b[h].async?1:0;var c=e=h=-1,f=-1,g=-1;if(performance&&google.xjsu){h=0;e=google.timers.load.t.xjsee?1:0;f=c=0;g=performance.getEntriesByType(\"resource\");for(var k=\n",
      "0;k<g.length;k++)-1!==g[k].name.indexOf(google.xjsu)&&(h=1),-1!==g[k].name.indexOf(\"/xjs/_/js/\")&&(c+=1,f+=\"script\"===g[k].initiatorType?1:0);g=c-f}b={cad:\"pl_\"+h+\".pe_\"+e+\".asc_\"+d+\".tsc_\"+b.length+\".fasc_\"+(b.length-d)+\".lxc_\"+c+\".lsx_\"+f+\".lnsx_\"+g}}google.ml(a,!1,b,!1,\"SyntaxError\"===a.name||\"SyntaxError\"===a.message.substring(0,11)||-1!==a.message.indexOf(\"Script error\")?3:0)}t=null;q&&r>=n&&(window.onerror=null)};})();</script></head><body bgcolor=\"#fff\"><script nonce=\"dgDPjI7qKGZYQhTZdYSVJA\">(function(){var src='/images/nav_logo229.png';var iesg=false;document.body.onload = function(){window.n && window.n();if (document.images){new Image().src=src;}\n",
      "if (!iesg){document.f&&document.f.q.focus();document.gbqf&&document.gbqf.q.focus();}\n",
      "}\n",
      "})();</script><div id=\"mngb\"><div id=gbar><nobr><b class=gb1>Búsqueda</b> <a class=gb1 href=\"https://www.google.com/imghp?hl=es&tab=wi\">Imágenes</a> <a class=gb1 href=\"https://maps.google.es/maps?hl=es&tab=wl\">Maps</a> <a class=gb1 href=\"https://play.google.com/?hl=es&tab=w8\">Play</a> <a class=gb1 href=\"https://www.youtube.com/?tab=w1\">YouTube</a> <a class=gb1 href=\"https://news.google.com/?tab=wn\">Noticias</a> <a class=gb1 href=\"https://mail.google.com/mail/?tab=wm\">Gmail</a> <a class=gb1 href=\"https://drive.google.com/?tab=wo\">Drive</a> <a class=gb1 style=\"text-decoration:none\" href=\"https://www.google.es/intl/es/about/products?tab=wh\"><u>Más</u> &raquo;</a></nobr></div><div id=guser width=100%><nobr><span id=gbn class=gbi></span><span id=gbf class=gbf></span><span id=gbe></span><a href=\"http://www.google.es/history/optout?hl=es\" class=gb4>Historial web</a> | <a  href=\"/preferences?hl=es\" class=gb4>Ajustes</a> | <a target=_top id=gb_70 href=\"https://accounts.google.com/ServiceLogin?hl=es&passive=true&continue=https://www.google.com/&ec=GAZAAQ\" class=gb4>Iniciar sesión</a></nobr></div><div class=gbh style=left:0></div><div class=gbh style=right:0></div></div><center><br clear=\"all\" id=\"lgpd\"><div id=\"lga\"><img alt=\"Google\" height=\"92\" src=\"/images/branding/googlelogo/1x/googlelogo_white_background_color_272x92dp.png\" style=\"padding:28px 0 14px\" width=\"272\" id=\"hplogo\"><br><br></div><form action=\"/search\" name=\"f\"><table cellpadding=\"0\" cellspacing=\"0\"><tr valign=\"top\"><td width=\"25%\">&nbsp;</td><td align=\"center\" nowrap=\"\"><input name=\"ie\" value=\"ISO-8859-1\" type=\"hidden\"><input value=\"es\" name=\"hl\" type=\"hidden\"><input name=\"source\" type=\"hidden\" value=\"hp\"><input name=\"biw\" type=\"hidden\"><input name=\"bih\" type=\"hidden\"><div class=\"ds\" style=\"height:32px;margin:4px 0\"><input class=\"lst\" style=\"margin:0;padding:5px 8px 0 6px;vertical-align:top;color:#000\" autocomplete=\"off\" value=\"\" title=\"Buscar con Google\" maxlength=\"2048\" name=\"q\" size=\"57\"></div><br style=\"line-height:0\"><span class=\"ds\"><span class=\"lsbb\"><input class=\"lsb\" value=\"Buscar con Google\" name=\"btnG\" type=\"submit\"></span></span><span class=\"ds\"><span class=\"lsbb\"><input class=\"lsb\" id=\"tsuid_1\" value=\"Voy a tener suerte\" name=\"btnI\" type=\"submit\"><script nonce=\"dgDPjI7qKGZYQhTZdYSVJA\">(function(){var id='tsuid_1';document.getElementById(id).onclick = function(){if (this.form.q.value){this.checked = 1;if (this.form.iflsig)this.form.iflsig.disabled = false;}\n",
      "else top.location='/doodles/';};})();</script><input value=\"AO6bgOgAAAAAZQSX0Bhr2DHQvELkalWZv9qNo42JHCgt\" name=\"iflsig\" type=\"hidden\"></span></span></td><td class=\"fl sblc\" align=\"left\" nowrap=\"\" width=\"25%\"><a href=\"/advanced_search?hl=es&amp;authuser=0\">Búsqueda avanzada</a></td></tr></table><input id=\"gbv\" name=\"gbv\" type=\"hidden\" value=\"1\"><script nonce=\"dgDPjI7qKGZYQhTZdYSVJA\">(function(){var a,b=\"1\";if(document&&document.getElementById)if(\"undefined\"!=typeof XMLHttpRequest)b=\"2\";else if(\"undefined\"!=typeof ActiveXObject){var c,d,e=[\"MSXML2.XMLHTTP.6.0\",\"MSXML2.XMLHTTP.3.0\",\"MSXML2.XMLHTTP\",\"Microsoft.XMLHTTP\"];for(c=0;d=e[c++];)try{new ActiveXObject(d),b=\"2\"}catch(h){}}a=b;if(\"2\"==a&&-1==location.search.indexOf(\"&gbv=2\")){var f=google.gbvu,g=document.getElementById(\"gbv\");g&&(g.value=a);f&&window.setTimeout(function(){location.href=f},0)};}).call(this);</script></form><div id=\"gac_scont\"></div><div style=\"font-size:83%;min-height:3.5em\"><br><div id=\"gws-output-pages-elements-homepage_additional_languages__als\"><style>#gws-output-pages-elements-homepage_additional_languages__als{font-size:small;margin-bottom:24px}#SIvCob{color:#3c4043;display:inline-block;line-height:28px;}#SIvCob a{padding:0 3px;}.H6sW5{display:inline-block;margin:0 2px;white-space:nowrap}.z4hgWe{display:inline-block;margin:0 2px}</style><div id=\"SIvCob\">Ofrecido por Google en:  <a href=\"https://www.google.com/setprefs?sig=0_F7rZOAJDBVcuv0cii3DylPthIyg%3D&amp;hl=ca&amp;source=homepage&amp;sa=X&amp;ved=0ahUKEwjzpbf3h62BAxWJSUEAHTESDLoQ2ZgBCAU\">català</a>    <a href=\"https://www.google.com/setprefs?sig=0_F7rZOAJDBVcuv0cii3DylPthIyg%3D&amp;hl=gl&amp;source=homepage&amp;sa=X&amp;ved=0ahUKEwjzpbf3h62BAxWJSUEAHTESDLoQ2ZgBCAY\">galego</a>    <a href=\"https://www.google.com/setprefs?sig=0_F7rZOAJDBVcuv0cii3DylPthIyg%3D&amp;hl=eu&amp;source=homepage&amp;sa=X&amp;ved=0ahUKEwjzpbf3h62BAxWJSUEAHTESDLoQ2ZgBCAc\">euskara</a>  </div></div></div><span id=\"footer\"><div style=\"font-size:10pt\"><div style=\"margin:19px auto;text-align:center\" id=\"WqQANb\"><a href=\"/intl/es/ads/\">Publicidad</a><a href=\"http://www.google.es/intl/es/services/\">Soluciones Empresariales</a><a href=\"/intl/es/about.html\">Todo acerca de Google</a><a href=\"https://www.google.com/setprefdomain?prefdom=ES&amp;prev=https://www.google.es/&amp;sig=K_s4trAXzH1vJSKM_lMit-sU1B184%3D\">Google.es</a></div></div><p style=\"font-size:8pt;color:#70757a\">&copy; 2023 - <a href=\"/intl/es/policies/privacy/\">Privacidad</a> - <a href=\"/intl/es/policies/terms/\">Términos</a></p></span></center><script nonce=\"dgDPjI7qKGZYQhTZdYSVJA\">(function(){window.google.cdo={height:757,width:1440};(function(){var a=window.innerWidth,b=window.innerHeight;if(!a||!b){var c=window.document,d=\"CSS1Compat\"==c.compatMode?c.documentElement:c.body;a=d.clientWidth;b=d.clientHeight}\n",
      "if(a&&b&&(a!=google.cdo.width||b!=google.cdo.height)){var e=google,f=e.log,g=\"/client_204?&atyp=i&biw=\"+a+\"&bih=\"+b+\"&ei=\"+google.kEI,h=\"\",k=[],l=void 0!==window.google&&void 0!==window.google.kOPI&&0!==window.google.kOPI?window.google.kOPI:null;null!=l&&k.push([\"opi\",l.toString()]);for(var m=0;m<k.length;m++){if(0===m||0<m)h+=\"&\";h+=k[m][0]+\"=\"+k[m][1]}f.call(e,\"\",\"\",g+h)};}).call(this);})();</script> <script nonce=\"dgDPjI7qKGZYQhTZdYSVJA\">(function(){google.xjs={ck:'xjs.hp.Jf8KR87pnmI.L.X.O',cs:'ACT90oEDpWl1udlOH-8G86L45uUx8TbWxg',cssopt:false,csss:'ACT90oHRpJunIehU97o-ZPRzbNoIcuSXOg',excm:[],sepcss:false};})();</script>     <script nonce=\"dgDPjI7qKGZYQhTZdYSVJA\">(function(){var u='/xjs/_/js/k\\x3dxjs.hp.en.LUUhF3eFQaY.O/am\\x3dAAAAAAAAAAAAAAAgAAAAAAAQABAQAAAAAAAAkAAAdAQAwAIAXA/d\\x3d1/ed\\x3d1/rs\\x3dACT90oGPNdmVgVw_InMBB4zFioANCDJKzw/m\\x3dsb_he,d,cEt90b,SNUn3,qddgKe,sTsDMc,dtl0hd,eHDfl';var amd=0;\n",
      "var e=this||self,f=function(a){return a};var g;var h=function(a){this.g=a};h.prototype.toString=function(){return this.g+\"\"};var k={};var l=function(){var a=document;var b=\"SCRIPT\";\"application/xhtml+xml\"===a.contentType&&(b=b.toLowerCase());return a.createElement(b)};\n",
      "function m(a,b){a.src=b instanceof h&&b.constructor===h?b.g:\"type_error:TrustedResourceUrl\";var c,d;(c=(b=null==(d=(c=(a.ownerDocument&&a.ownerDocument.defaultView||window).document).querySelector)?void 0:d.call(c,\"script[nonce]\"))?b.nonce||b.getAttribute(\"nonce\")||\"\":\"\")&&a.setAttribute(\"nonce\",c)};function n(a){a=null===a?\"null\":void 0===a?\"undefined\":a;if(void 0===g){var b=null;var c=e.trustedTypes;if(c&&c.createPolicy){try{b=c.createPolicy(\"goog#html\",{createHTML:f,createScript:f,createScriptURL:f})}catch(d){e.console&&e.console.error(d.message)}g=b}else g=b}a=(b=g)?b.createScriptURL(a):a;return new h(a,k)};void 0===google.ps&&(google.ps=[]);function p(){var a=u,b=function(){};google.lx=google.stvsc?b:function(){q(a);google.lx=b};google.bx||google.lx()}function r(a,b){b&&m(a,n(b));var c=a.onload;a.onload=function(d){c&&c(d);google.ps=google.ps.filter(function(t){return a!==t})};google.ps.push(a);document.body.appendChild(a)}google.as=r;function q(a){google.timers&&google.timers.load&&google.tick&&google.tick(\"load\",\"xjsls\");var b=l();b.onerror=function(){google.ple=1};b.onload=function(){google.ple=0};google.xjsus=void 0;r(b,a);google.aple=-1;google.psa=!0};google.xjsu=u;e._F_jsUrl=u;setTimeout(function(){0<amd?google.caft(function(){return p()},amd):p()},0);})();window._ = window._ || {};window._DumpException = _._DumpException = function(e){throw e;};window._s = window._s || {};_s._DumpException = _._DumpException;window._qs = window._qs || {};_qs._DumpException = _._DumpException;(function(){window._F_toggles=[1,0,0,8,1048577,16448,0,9216,1140,24117259];})();function _F_installCss(c){}\n",
      "(function(){google.jl={blt:'none',chnk:0,dw:false,dwu:true,emtn:0,end:0,ico:false,ikb:0,ine:false,injs:'none',injt:0,injth:0,injv2:false,lls:'default',pdt:0,rep:0,snet:true,strt:0,ubm:false,uwp:true};})();(function(){var pmc='{\\x22d\\x22:{},\\x22sb_he\\x22:{\\x22agen\\x22:true,\\x22cgen\\x22:true,\\x22client\\x22:\\x22heirloom-hp\\x22,\\x22dh\\x22:true,\\x22ds\\x22:\\x22\\x22,\\x22fl\\x22:true,\\x22host\\x22:\\x22google.com\\x22,\\x22jsonp\\x22:true,\\x22lm\\x22:true,\\x22msgs\\x22:{\\x22cibl\\x22:\\x22Borrar b\\\\u00fasqueda\\x22,\\x22dym\\x22:\\x22Quiz\\\\u00e1s quisiste decir:\\x22,\\x22lcky\\x22:\\x22Voy a tener suerte\\x22,\\x22lml\\x22:\\x22M\\\\u00e1s informaci\\\\u00f3n\\x22,\\x22psrc\\x22:\\x22Esta b\\\\u00fasqueda se ha eliminado de tu \\\\u003Ca href\\x3d\\\\\\x22/history\\\\\\x22\\\\u003Ehistorial web\\\\u003C/a\\\\u003E.\\x22,\\x22psrl\\x22:\\x22Eliminar\\x22,\\x22sbit\\x22:\\x22Buscar por imagen\\x22,\\x22srch\\x22:\\x22Buscar con Google\\x22},\\x22ovr\\x22:{},\\x22pq\\x22:\\x22\\x22,\\x22rfs\\x22:[],\\x22sbas\\x22:\\x220 3px 8px 0 rgba(0,0,0,0.2),0 0 0 1px rgba(0,0,0,0.08)\\x22,\\x22stok\\x22:\\x22nm0zG5GKd8YuTREOgW5MfNP6Uow\\x22}}';google.pmc=JSON.parse(pmc);})();(function(){var b=function(a){var c=0;return function(){return c<a.length?{done:!1,value:a[c++]}:{done:!0}}};\n",
      "var e=this||self;var g,h;a:{for(var k=[\"CLOSURE_FLAGS\"],l=e,n=0;n<k.length;n++)if(l=l[k[n]],null==l){h=null;break a}h=l}var p=h&&h[610401301];g=null!=p?p:!1;var q,r=e.navigator;q=r?r.userAgentData||null:null;function t(a){return g?q?q.brands.some(function(c){return(c=c.brand)&&-1!=c.indexOf(a)}):!1:!1}function u(a){var c;a:{if(c=e.navigator)if(c=c.userAgent)break a;c=\"\"}return-1!=c.indexOf(a)};function v(){return g?!!q&&0<q.brands.length:!1}function w(){return u(\"Safari\")&&!(x()||(v()?0:u(\"Coast\"))||(v()?0:u(\"Opera\"))||(v()?0:u(\"Edge\"))||(v()?t(\"Microsoft Edge\"):u(\"Edg/\"))||(v()?t(\"Opera\"):u(\"OPR\"))||u(\"Firefox\")||u(\"FxiOS\")||u(\"Silk\")||u(\"Android\"))}function x(){return v()?t(\"Chromium\"):(u(\"Chrome\")||u(\"CriOS\"))&&!(v()?0:u(\"Edge\"))||u(\"Silk\")}function y(){return u(\"Android\")&&!(x()||u(\"Firefox\")||u(\"FxiOS\")||(v()?0:u(\"Opera\"))||u(\"Silk\"))};var z=v()?!1:u(\"Trident\")||u(\"MSIE\");y();x();w();var A=!z&&!w(),D=function(a){if(/-[a-z]/.test(\"ved\"))return null;if(A&&a.dataset){if(y()&&!(\"ved\"in a.dataset))return null;a=a.dataset.ved;return void 0===a?null:a}return a.getAttribute(\"data-\"+\"ved\".replace(/([A-Z])/g,\"-$1\").toLowerCase())};var E=[],F=null;function G(a){a=a.target;var c=performance.now(),f=[],H=f.concat,d=E;if(!(d instanceof Array)){var m=\"undefined\"!=typeof Symbol&&Symbol.iterator&&d[Symbol.iterator];if(m)d=m.call(d);else if(\"number\"==typeof d.length)d={next:b(d)};else throw Error(\"a`\"+String(d));for(var B=[];!(m=d.next()).done;)B.push(m.value);d=B}E=H.call(f,d,[c]);if(a&&a instanceof HTMLElement)if(a===F){if(c=4<=E.length)c=5>(E[E.length-1]-E[E.length-4])/1E3;if(c){c=google.getEI(a);a.hasAttribute(\"data-ved\")?f=a?D(a)||\"\":\"\":f=(f=\n",
      "a.closest(\"[data-ved]\"))?D(f)||\"\":\"\";f=f||\"\";if(a.hasAttribute(\"jsname\"))a=a.getAttribute(\"jsname\");else{var C;a=null==(C=a.closest(\"[jsname]\"))?void 0:C.getAttribute(\"jsname\")}google.log(\"rcm\",\"&ei=\"+c+\"&ved=\"+f+\"&jsname=\"+(a||\"\"))}}else F=a,E=[c]}window.document.addEventListener(\"DOMContentLoaded\",function(){document.body.addEventListener(\"click\",G)});}).call(this);</script></body></html>\n"
     ]
    }
   ],
   "source": [
    "'''\n",
    "simple webscrapping technique\n",
    "\n",
    "'''\n",
    "\n",
    "\n",
    "import requests as re\n",
    "\n",
    "response = re.get('https://google.com')\n",
    "html = response.text\n",
    "print(html)"
   ]
  },
  {
   "cell_type": "code",
   "execution_count": 5,
   "metadata": {},
   "outputs": [],
   "source": [
    "'''\n",
    "isto é apenas um simples excemplo onde precisamos de isolar este codigo no ficheiro unico de forma a conseguirmos executar o ficheiro\n",
    "\n",
    "'''\n",
    "\n",
    "\n",
    "from flask import Flask\n",
    "\n",
    "app = Flask(__name__)\n",
    "\n",
    "@app.route(\"/\")\n",
    "def hello():\n",
    "    return \"Hello World!\"\n"
   ]
  },
  {
   "cell_type": "code",
   "execution_count": 7,
   "metadata": {},
   "outputs": [
    {
     "data": {
      "text/plain": [
       "<bound method person.say_hello of <__main__.person object at 0x0000025936593B50>>"
      ]
     },
     "execution_count": 7,
     "metadata": {},
     "output_type": "execute_result"
    }
   ],
   "source": [
    "'''\n",
    "python classes\n",
    "\n",
    "! nao consegui correr,  tem o seguinte erro: <bound method person.say_hello of <__main__.person object at 0x0000025936593B50>>\n",
    "\n",
    "nao sei é por ter tentado correr isto num notebook em vez de ter corrido num ficheiro individual .py\n",
    "'''\n",
    "\n",
    "class person:\n",
    "    def __init__(self,  name):\n",
    "        self.name = name\n",
    "    \n",
    "    def say_hello(self):\n",
    "        print(\"hello {}!\".format(self.name))\n",
    "\n",
    "adam = person('adam')\n",
    "adam.say_hello"
   ]
  },
  {
   "cell_type": "code",
   "execution_count": 14,
   "metadata": {},
   "outputs": [],
   "source": [
    "'''\n",
    "unit test\n",
    "\n",
    "'''\n",
    "\n",
    "def inc(x):\n",
    "    return x + 1\n",
    "\n",
    "\n",
    "def test_answer():\n",
    "    assert inc(3) == 4\n",
    "test_answer()"
   ]
  },
  {
   "cell_type": "code",
   "execution_count": null,
   "metadata": {},
   "outputs": [],
   "source": [
    "# VOU CORRER OS SHORTS QUE ESTAO NESTE PAGINA -  E APENAS VOU VER COM MAIS DETALHE OS PONTOS QU TIVER MESMO DUVIDA >> https://www.youtube.com/@codetodesign"
   ]
  }
 ],
 "metadata": {
  "kernelspec": {
   "display_name": "Python 3",
   "language": "python",
   "name": "python3"
  },
  "language_info": {
   "codemirror_mode": {
    "name": "ipython",
    "version": 3
   },
   "file_extension": ".py",
   "mimetype": "text/x-python",
   "name": "python",
   "nbconvert_exporter": "python",
   "pygments_lexer": "ipython3",
   "version": "3.10.2"
  },
  "orig_nbformat": 4
 },
 "nbformat": 4,
 "nbformat_minor": 2
}
